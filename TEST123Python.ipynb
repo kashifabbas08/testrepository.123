{
  "nbformat": 4,
  "nbformat_minor": 0,
  "metadata": {
    "colab": {
      "name": "TEST123Python.ipynb",
      "provenance": [],
      "authorship_tag": "ABX9TyOsy47wQfxVRFLdZnwt+H4S",
      "include_colab_link": true
    },
    "kernelspec": {
      "name": "python3",
      "display_name": "Python 3"
    }
  },
  "cells": [
    {
      "cell_type": "markdown",
      "metadata": {
        "id": "view-in-github",
        "colab_type": "text"
      },
      "source": [
        "<a href=\"https://colab.research.google.com/github/kashifabbas08/testrepository.123/blob/main/TEST123Python.ipynb\" target=\"_parent\"><img src=\"https://colab.research.google.com/assets/colab-badge.svg\" alt=\"Open In Colab\"/></a>"
      ]
    },
    {
      "cell_type": "code",
      "metadata": {
        "id": "V109E3PHun1G"
      },
      "source": [
        "\"Hello World!\"\r\n",
        "\"Welcome to Python World\""
      ],
      "execution_count": null,
      "outputs": []
    },
    {
      "cell_type": "code",
      "metadata": {
        "colab": {
          "base_uri": "https://localhost:8080/"
        },
        "id": "FbpLKtRhpYQp",
        "outputId": "dce68da8-c0a5-4972-fc0c-e6eda22fc57a"
      },
      "source": [
        "print(\"Hello World!\")\r\n",
        "print('Welcome to Python World')"
      ],
      "execution_count": 3,
      "outputs": [
        {
          "output_type": "stream",
          "text": [
            "Hello World!\n",
            "Welcome to Python World\n"
          ],
          "name": "stdout"
        }
      ]
    },
    {
      "cell_type": "code",
      "metadata": {
        "id": "uO5Kh5j2vFW5"
      },
      "source": [
        "name = \"Eric\"\r\n",
        "age = 14\r\n"
      ],
      "execution_count": 16,
      "outputs": []
    },
    {
      "cell_type": "code",
      "metadata": {
        "colab": {
          "base_uri": "https://localhost:8080/"
        },
        "id": "AieZf-NRvay9",
        "outputId": "79553ab9-1b04-4fd8-9e45-9f57481713d5"
      },
      "source": [
        "name = \"Eric\"\r\n",
        "age = 74\r\n",
        "print(\"Hello %s. You are %s years old\" % (name,age))"
      ],
      "execution_count": 6,
      "outputs": [
        {
          "output_type": "stream",
          "text": [
            "Hello Eric. You are 74 years old\n"
          ],
          "name": "stdout"
        }
      ]
    },
    {
      "cell_type": "code",
      "metadata": {
        "colab": {
          "base_uri": "https://localhost:8080/"
        },
        "id": "jkig9MxBwPmb",
        "outputId": "c643e14d-fff3-4711-c8e6-37220b8f0b29"
      },
      "source": [
        "#name = \"Eric\"\r\n",
        "#age = 74\r\n",
        "print(\"Hello {}. You are {} years old\".format(name,age))\r\n",
        "print(\"Hello {}, you are {} years old\".format(\"Python\", age))"
      ],
      "execution_count": 17,
      "outputs": [
        {
          "output_type": "stream",
          "text": [
            "Hello Eric. You are 14 years old\n",
            "Hello Python, you are 14 years old\n"
          ],
          "name": "stdout"
        }
      ]
    },
    {
      "cell_type": "code",
      "metadata": {
        "id": "pLRkw_S_xX0C"
      },
      "source": [
        "person = {'name':'Eric','age':74}"
      ],
      "execution_count": 20,
      "outputs": []
    },
    {
      "cell_type": "code",
      "metadata": {
        "colab": {
          "base_uri": "https://localhost:8080/"
        },
        "id": "tWHySPwIxmMM",
        "outputId": "9bfa41cf-65fe-4a90-c034-6ed559f2163e"
      },
      "source": [
        "\r\n",
        "print(\"Hello , {name}. You are {age} year old.\".format(name=person['name'], age=person['age']))"
      ],
      "execution_count": 21,
      "outputs": [
        {
          "output_type": "stream",
          "text": [
            "Hello , Eric. You are 74.\n",
            "Hello , Eric. You are 74 year old.\n"
          ],
          "name": "stdout"
        }
      ]
    },
    {
      "cell_type": "code",
      "metadata": {
        "id": "UBp7D5n4zOVJ"
      },
      "source": [
        "print(\"Hello , {name}. You are {age}.\".format(**person))"
      ],
      "execution_count": null,
      "outputs": []
    },
    {
      "cell_type": "code",
      "metadata": {
        "id": "c9v5fO_Dy1B_"
      },
      "source": [
        "first_name = \"Eric\"\r\n",
        "last_name = \"Idle\"\r\n",
        "age = 74\r\n",
        "profession = \"Comaddian\""
      ],
      "execution_count": 22,
      "outputs": []
    },
    {
      "cell_type": "code",
      "metadata": {
        "colab": {
          "base_uri": "https://localhost:8080/",
          "height": 35
        },
        "id": "Z0vnIBXdzcg_",
        "outputId": "1a68c561-d8fa-455a-ac8e-570a79aca5d3"
      },
      "source": [
        "f\"Hello , {first_name}, you are {age}\""
      ],
      "execution_count": 23,
      "outputs": [
        {
          "output_type": "execute_result",
          "data": {
            "application/vnd.google.colaboratory.intrinsic+json": {
              "type": "string"
            },
            "text/plain": [
              "'Hello , Eric, you are 74'"
            ]
          },
          "metadata": {
            "tags": []
          },
          "execution_count": 23
        }
      ]
    },
    {
      "cell_type": "code",
      "metadata": {
        "colab": {
          "base_uri": "https://localhost:8080/",
          "height": 35
        },
        "id": "U38pZyJO0C67",
        "outputId": "39c37f3d-6579-4629-b15b-6ccead4fc954"
      },
      "source": [
        "def to_lowercase(input):\r\n",
        "  return input.lower()\r\n",
        "\r\n",
        "name= \"Eric Idle\"\r\n",
        "f\"{to_lowercase(name)} is funny\""
      ],
      "execution_count": 24,
      "outputs": [
        {
          "output_type": "execute_result",
          "data": {
            "application/vnd.google.colaboratory.intrinsic+json": {
              "type": "string"
            },
            "text/plain": [
              "'eric idle is funny'"
            ]
          },
          "metadata": {
            "tags": []
          },
          "execution_count": 24
        }
      ]
    },
    {
      "cell_type": "code",
      "metadata": {
        "colab": {
          "base_uri": "https://localhost:8080/",
          "height": 35
        },
        "id": "JHSCAH3b0bH-",
        "outputId": "ee732b6d-78a1-4505-9abd-e0c67855f1d0"
      },
      "source": [
        "def to_lowercase(input):\r\n",
        "  return input.upper()\r\n",
        "\r\n",
        "name= \"Eric Idle\"\r\n",
        "F\"{to_lowercase(name)} is funny\""
      ],
      "execution_count": 26,
      "outputs": [
        {
          "output_type": "execute_result",
          "data": {
            "application/vnd.google.colaboratory.intrinsic+json": {
              "type": "string"
            },
            "text/plain": [
              "'ERIC IDLE is funny'"
            ]
          },
          "metadata": {
            "tags": []
          },
          "execution_count": 26
        }
      ]
    },
    {
      "cell_type": "code",
      "metadata": {
        "colab": {
          "base_uri": "https://localhost:8080/",
          "height": 35
        },
        "id": "H8tq2P4H0lVP",
        "outputId": "7ae0df29-3e29-4f3c-9bae-d5fdf591f1d9"
      },
      "source": [
        "f\"{2*82}\""
      ],
      "execution_count": 27,
      "outputs": [
        {
          "output_type": "execute_result",
          "data": {
            "application/vnd.google.colaboratory.intrinsic+json": {
              "type": "string"
            },
            "text/plain": [
              "'164'"
            ]
          },
          "metadata": {
            "tags": []
          },
          "execution_count": 27
        }
      ]
    }
  ]
}