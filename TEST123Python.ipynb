{
  "nbformat": 4,
  "nbformat_minor": 0,
  "metadata": {
    "colab": {
      "name": "TEST123Python.ipynb",
      "provenance": [],
      "collapsed_sections": [],
      "authorship_tag": "ABX9TyN/kcHqMbT6N9Nd/tPnOCjp",
      "include_colab_link": true
    },
    "kernelspec": {
      "name": "python3",
      "display_name": "Python 3"
    }
  },
  "cells": [
    {
      "cell_type": "markdown",
      "metadata": {
        "id": "view-in-github",
        "colab_type": "text"
      },
      "source": [
        "<a href=\"https://colab.research.google.com/github/kashifabbas08/testrepository.123/blob/main/TEST123Python.ipynb\" target=\"_parent\"><img src=\"https://colab.research.google.com/assets/colab-badge.svg\" alt=\"Open In Colab\"/></a>"
      ]
    },
    {
      "cell_type": "code",
      "metadata": {
        "id": "V109E3PHun1G"
      },
      "source": [
        "\"Hello World!\"\r\n",
        "\"Welcome to Python World\""
      ],
      "execution_count": null,
      "outputs": []
    },
    {
      "cell_type": "code",
      "metadata": {
        "colab": {
          "base_uri": "https://localhost:8080/"
        },
        "id": "FbpLKtRhpYQp",
        "outputId": "dce68da8-c0a5-4972-fc0c-e6eda22fc57a"
      },
      "source": [
        "print(\"Hello World!\")\r\n",
        "print('Welcome to Python World')"
      ],
      "execution_count": null,
      "outputs": [
        {
          "output_type": "stream",
          "text": [
            "Hello World!\n",
            "Welcome to Python World\n"
          ],
          "name": "stdout"
        }
      ]
    },
    {
      "cell_type": "code",
      "metadata": {
        "id": "uO5Kh5j2vFW5"
      },
      "source": [
        "name = \"Eric\"\r\n",
        "age = 14\r\n"
      ],
      "execution_count": null,
      "outputs": []
    },
    {
      "cell_type": "code",
      "metadata": {
        "colab": {
          "base_uri": "https://localhost:8080/"
        },
        "id": "AieZf-NRvay9",
        "outputId": "79553ab9-1b04-4fd8-9e45-9f57481713d5"
      },
      "source": [
        "name = \"Eric\"\r\n",
        "age = 74\r\n",
        "print(\"Hello %s. You are %s years old\" % (name,age))"
      ],
      "execution_count": null,
      "outputs": [
        {
          "output_type": "stream",
          "text": [
            "Hello Eric. You are 74 years old\n"
          ],
          "name": "stdout"
        }
      ]
    },
    {
      "cell_type": "code",
      "metadata": {
        "colab": {
          "base_uri": "https://localhost:8080/"
        },
        "id": "jkig9MxBwPmb",
        "outputId": "c643e14d-fff3-4711-c8e6-37220b8f0b29"
      },
      "source": [
        "#name = \"Eric\"\r\n",
        "#age = 74\r\n",
        "print(\"Hello {}. You are {} years old\".format(name,age))\r\n",
        "print(\"Hello {}, you are {} years old\".format(\"Python\", age))"
      ],
      "execution_count": null,
      "outputs": [
        {
          "output_type": "stream",
          "text": [
            "Hello Eric. You are 14 years old\n",
            "Hello Python, you are 14 years old\n"
          ],
          "name": "stdout"
        }
      ]
    },
    {
      "cell_type": "code",
      "metadata": {
        "id": "pLRkw_S_xX0C"
      },
      "source": [
        "person = {'name':'Eric','age':74}"
      ],
      "execution_count": null,
      "outputs": []
    },
    {
      "cell_type": "code",
      "metadata": {
        "colab": {
          "base_uri": "https://localhost:8080/"
        },
        "id": "tWHySPwIxmMM",
        "outputId": "9bfa41cf-65fe-4a90-c034-6ed559f2163e"
      },
      "source": [
        "\r\n",
        "print(\"Hello , {name}. You are {age} year old.\".format(name=person['name'], age=person['age']))"
      ],
      "execution_count": null,
      "outputs": [
        {
          "output_type": "stream",
          "text": [
            "Hello , Eric. You are 74.\n",
            "Hello , Eric. You are 74 year old.\n"
          ],
          "name": "stdout"
        }
      ]
    },
    {
      "cell_type": "code",
      "metadata": {
        "id": "UBp7D5n4zOVJ"
      },
      "source": [
        "print(\"Hello , {name}. You are {age}.\".format(**person))"
      ],
      "execution_count": null,
      "outputs": []
    },
    {
      "cell_type": "code",
      "metadata": {
        "id": "c9v5fO_Dy1B_"
      },
      "source": [
        "first_name = \"Eric\"\r\n",
        "last_name = \"Idle\"\r\n",
        "age = 74\r\n",
        "profession = \"Comaddian\""
      ],
      "execution_count": null,
      "outputs": []
    },
    {
      "cell_type": "code",
      "metadata": {
        "colab": {
          "base_uri": "https://localhost:8080/",
          "height": 35
        },
        "id": "Z0vnIBXdzcg_",
        "outputId": "1a68c561-d8fa-455a-ac8e-570a79aca5d3"
      },
      "source": [
        "f\"Hello , {first_name}, you are {age}\""
      ],
      "execution_count": null,
      "outputs": [
        {
          "output_type": "execute_result",
          "data": {
            "application/vnd.google.colaboratory.intrinsic+json": {
              "type": "string"
            },
            "text/plain": [
              "'Hello , Eric, you are 74'"
            ]
          },
          "metadata": {
            "tags": []
          },
          "execution_count": 23
        }
      ]
    },
    {
      "cell_type": "code",
      "metadata": {
        "colab": {
          "base_uri": "https://localhost:8080/",
          "height": 35
        },
        "id": "U38pZyJO0C67",
        "outputId": "39c37f3d-6579-4629-b15b-6ccead4fc954"
      },
      "source": [
        "def to_lowercase(input):\r\n",
        "  return input.lower()\r\n",
        "\r\n",
        "name= \"Eric Idle\"\r\n",
        "f\"{to_lowercase(name)} is funny\""
      ],
      "execution_count": null,
      "outputs": [
        {
          "output_type": "execute_result",
          "data": {
            "application/vnd.google.colaboratory.intrinsic+json": {
              "type": "string"
            },
            "text/plain": [
              "'eric idle is funny'"
            ]
          },
          "metadata": {
            "tags": []
          },
          "execution_count": 24
        }
      ]
    },
    {
      "cell_type": "code",
      "metadata": {
        "colab": {
          "base_uri": "https://localhost:8080/",
          "height": 35
        },
        "id": "JHSCAH3b0bH-",
        "outputId": "ee732b6d-78a1-4505-9abd-e0c67855f1d0"
      },
      "source": [
        "def to_lowercase(input):\r\n",
        "  return input.upper()\r\n",
        "\r\n",
        "name= \"Eric Idle\"\r\n",
        "F\"{to_lowercase(name)} is funny\""
      ],
      "execution_count": null,
      "outputs": [
        {
          "output_type": "execute_result",
          "data": {
            "application/vnd.google.colaboratory.intrinsic+json": {
              "type": "string"
            },
            "text/plain": [
              "'ERIC IDLE is funny'"
            ]
          },
          "metadata": {
            "tags": []
          },
          "execution_count": 26
        }
      ]
    },
    {
      "cell_type": "code",
      "metadata": {
        "colab": {
          "base_uri": "https://localhost:8080/",
          "height": 35
        },
        "id": "qfmeRCt-07hW",
        "outputId": "9a9150c7-0702-411f-8d93-b8f6a9476637"
      },
      "source": [
        "\"abytabi\".upper()"
      ],
      "execution_count": null,
      "outputs": [
        {
          "output_type": "execute_result",
          "data": {
            "application/vnd.google.colaboratory.intrinsic+json": {
              "type": "string"
            },
            "text/plain": [
              "'ABYTABI'"
            ]
          },
          "metadata": {
            "tags": []
          },
          "execution_count": 29
        }
      ]
    },
    {
      "cell_type": "code",
      "metadata": {
        "colab": {
          "base_uri": "https://localhost:8080/",
          "height": 35
        },
        "id": "H8tq2P4H0lVP",
        "outputId": "7ae0df29-3e29-4f3c-9bae-d5fdf591f1d9"
      },
      "source": [
        "f\"{2*82}\""
      ],
      "execution_count": null,
      "outputs": [
        {
          "output_type": "execute_result",
          "data": {
            "application/vnd.google.colaboratory.intrinsic+json": {
              "type": "string"
            },
            "text/plain": [
              "'164'"
            ]
          },
          "metadata": {
            "tags": []
          },
          "execution_count": 27
        }
      ]
    },
    {
      "cell_type": "code",
      "metadata": {
        "colab": {
          "base_uri": "https://localhost:8080/"
        },
        "id": "JOXXR38n-9xB",
        "outputId": "13d8ec80-8c25-440c-c44a-1417299c14af"
      },
      "source": [
        "for i in range(10):\r\n",
        "  print(i)"
      ],
      "execution_count": null,
      "outputs": [
        {
          "output_type": "stream",
          "text": [
            "0\n",
            "1\n",
            "2\n",
            "3\n",
            "4\n",
            "5\n",
            "6\n",
            "7\n",
            "8\n",
            "9\n"
          ],
          "name": "stdout"
        }
      ]
    },
    {
      "cell_type": "code",
      "metadata": {
        "id": "5op8rhyCbboA"
      },
      "source": [
        ""
      ],
      "execution_count": null,
      "outputs": []
    },
    {
      "cell_type": "code",
      "metadata": {
        "colab": {
          "base_uri": "https://localhost:8080/"
        },
        "id": "ARLUQNoP_VNX",
        "outputId": "ee9336a8-5b93-4fdb-ac81-3d15abee9b45"
      },
      "source": [
        "#for() loo\r\n",
        "date = [1989,1993,2021]\r\n",
        "N = len(date)\r\n",
        "\r\n",
        "for i in range(N):\r\n",
        "  print(date[i])"
      ],
      "execution_count": null,
      "outputs": [
        {
          "output_type": "stream",
          "text": [
            "1989\n",
            "1993\n",
            "2021\n"
          ],
          "name": "stdout"
        }
      ]
    },
    {
      "cell_type": "code",
      "metadata": {
        "colab": {
          "base_uri": "https://localhost:8080/"
        },
        "id": "dVj1B1R4ANXD",
        "outputId": "2c272fc0-71e2-42ee-a046-b1cb72d9c9e1"
      },
      "source": [
        "squares = ['red','yesllow','green','black','blue']\r\n",
        "\r\n",
        "for i, square in enumerate(squares):\r\n",
        "  print(i, square)"
      ],
      "execution_count": null,
      "outputs": [
        {
          "output_type": "stream",
          "text": [
            "0 red\n",
            "1 yesllow\n",
            "2 green\n",
            "3 black\n",
            "4 blue\n"
          ],
          "name": "stdout"
        }
      ]
    },
    {
      "cell_type": "code",
      "metadata": {
        "id": "xz3YWn2mA03P"
      },
      "source": [
        "squares = ['red','yesllow','green','black','blue']\r\n"
      ],
      "execution_count": null,
      "outputs": []
    },
    {
      "cell_type": "code",
      "metadata": {
        "colab": {
          "base_uri": "https://localhost:8080/"
        },
        "id": "wPu9KRjsDF0O",
        "outputId": "fa929103-d319-455e-cb4b-4488b5bd7858"
      },
      "source": [
        "i= -5\r\n",
        "while (i < 6):\r\n",
        "  print(i)\r\n",
        "  i=i+1\r\n"
      ],
      "execution_count": null,
      "outputs": [
        {
          "output_type": "stream",
          "text": [
            "-5\n",
            "-4\n",
            "-3\n",
            "-2\n",
            "-1\n",
            "0\n",
            "1\n",
            "2\n",
            "3\n",
            "4\n",
            "5\n"
          ],
          "name": "stdout"
        }
      ]
    },
    {
      "cell_type": "code",
      "metadata": {
        "colab": {
          "base_uri": "https://localhost:8080/"
        },
        "id": "4LJ7oY6gFXl9",
        "outputId": "9ebc7067-3fdf-4163-eef4-e10e1d954058"
      },
      "source": [
        "for i in range (-5, 6):\r\n",
        "  print(i)"
      ],
      "execution_count": null,
      "outputs": [
        {
          "output_type": "stream",
          "text": [
            "-5\n",
            "-4\n",
            "-3\n",
            "-2\n",
            "-1\n",
            "0\n",
            "1\n",
            "2\n",
            "3\n",
            "4\n",
            "5\n"
          ],
          "name": "stdout"
        }
      ]
    },
    {
      "cell_type": "code",
      "metadata": {
        "colab": {
          "base_uri": "https://localhost:8080/"
        },
        "id": "j2YFTtEUHkpH",
        "outputId": "0c138af1-e2b9-464b-8985-1a0e350ffc27"
      },
      "source": [
        "[j + k for j in 'xyz' for k in 'abc']"
      ],
      "execution_count": null,
      "outputs": [
        {
          "output_type": "execute_result",
          "data": {
            "text/plain": [
              "['xa', 'xb', 'xc', 'ya', 'yb', 'yc', 'za', 'zb', 'zc']"
            ]
          },
          "metadata": {
            "tags": []
          },
          "execution_count": 53
        }
      ]
    },
    {
      "cell_type": "code",
      "metadata": {
        "colab": {
          "base_uri": "https://localhost:8080/"
        },
        "id": "ebbZyTQ2IGJG",
        "outputId": "18cd5655-7a80-4ace-9916-05c3886348db"
      },
      "source": [
        "[j + k for j in 'abc' for k in 'ABC']"
      ],
      "execution_count": null,
      "outputs": [
        {
          "output_type": "execute_result",
          "data": {
            "text/plain": [
              "['aA', 'aB', 'aC', 'bA', 'bB', 'bC', 'cA', 'cB', 'cC']"
            ]
          },
          "metadata": {
            "tags": []
          },
          "execution_count": 48
        }
      ]
    },
    {
      "cell_type": "code",
      "metadata": {
        "colab": {
          "base_uri": "https://localhost:8080/"
        },
        "id": "72XJOlxvIbTP",
        "outputId": "640bfbfd-30c8-412f-99dd-434e98889bd8"
      },
      "source": [
        "name = \"Eric\"\r\n",
        "age = 60\r\n",
        "if age > 75:\r\n",
        "  print(\"Hello , %s you are not eligible for License\" %(name))\r\n",
        "else:\r\n",
        "  print((\"Hello , %s you are eligible for License\" %(name)))"
      ],
      "execution_count": null,
      "outputs": [
        {
          "output_type": "stream",
          "text": [
            "Hello , Eric you are eligible for License\n"
          ],
          "name": "stdout"
        }
      ]
    },
    {
      "cell_type": "code",
      "metadata": {
        "colab": {
          "base_uri": "https://localhost:8080/"
        },
        "id": "7J2XuCaFbdSz",
        "outputId": "0d474fd1-f2ff-400f-d8f1-4d7e4142301b"
      },
      "source": [
        "for x in \"bananan\":\r\n",
        "  print(x)"
      ],
      "execution_count": 1,
      "outputs": [
        {
          "output_type": "stream",
          "text": [
            "b\n",
            "a\n",
            "n\n",
            "a\n",
            "n\n",
            "a\n",
            "n\n"
          ],
          "name": "stdout"
        }
      ]
    },
    {
      "cell_type": "code",
      "metadata": {
        "colab": {
          "base_uri": "https://localhost:8080/"
        },
        "id": "ZDELMFwHbnin",
        "outputId": "032272c6-c4f7-4b51-f59c-e3518c984ad8"
      },
      "source": [
        "fruits = [\"apple\",\"banana\",\"cherry\"]\r\n",
        "for x in fruits:\r\n",
        "  print(x)"
      ],
      "execution_count": 2,
      "outputs": [
        {
          "output_type": "stream",
          "text": [
            "apple\n",
            "banana\n",
            "cherry\n"
          ],
          "name": "stdout"
        }
      ]
    },
    {
      "cell_type": "code",
      "metadata": {
        "colab": {
          "base_uri": "https://localhost:8080/"
        },
        "id": "26GSE11YcR5p",
        "outputId": "80e3fce4-44ed-4fd0-8efa-00114a141ae4"
      },
      "source": [
        "fruits = [\"apple\",\"banana\",\"cherry\"]\r\n",
        "for x in fruits:\r\n",
        "  if x==\"banana\":\r\n",
        "    break\r\n",
        "  print(x)"
      ],
      "execution_count": 3,
      "outputs": [
        {
          "output_type": "stream",
          "text": [
            "apple\n"
          ],
          "name": "stdout"
        }
      ]
    },
    {
      "cell_type": "code",
      "metadata": {
        "colab": {
          "base_uri": "https://localhost:8080/"
        },
        "id": "jMv_1K1Ucbjk",
        "outputId": "846150ff-9c2f-4db6-b787-567eb1c4e108"
      },
      "source": [
        "fruits = [\"apple\",\"banana\",\"cherry\"]\r\n",
        "for x in fruits:\r\n",
        "  if x==\"banana\":\r\n",
        "    continue\r\n",
        "  print(x)"
      ],
      "execution_count": 4,
      "outputs": [
        {
          "output_type": "stream",
          "text": [
            "apple\n",
            "cherry\n"
          ],
          "name": "stdout"
        }
      ]
    },
    {
      "cell_type": "code",
      "metadata": {
        "colab": {
          "base_uri": "https://localhost:8080/"
        },
        "id": "p75e_fOnc1Yl",
        "outputId": "f709f548-21c8-4643-d0c2-2d49dfe7717c"
      },
      "source": [
        "for i in range(2,12,3):\r\n",
        "  print(i)"
      ],
      "execution_count": 7,
      "outputs": [
        {
          "output_type": "stream",
          "text": [
            "2\n",
            "5\n",
            "8\n",
            "11\n"
          ],
          "name": "stdout"
        }
      ]
    },
    {
      "cell_type": "code",
      "metadata": {
        "colab": {
          "base_uri": "https://localhost:8080/"
        },
        "id": "2q0E8R0pdMCL",
        "outputId": "b4b58abe-564b-4d7e-b6ae-0fd42fa66fa7"
      },
      "source": [
        "for i in range(6):\r\n",
        "  print(i)\r\n",
        "else:\r\n",
        "  print(\"loop Finished!\")"
      ],
      "execution_count": 8,
      "outputs": [
        {
          "output_type": "stream",
          "text": [
            "0\n",
            "1\n",
            "2\n",
            "3\n",
            "4\n",
            "5\n",
            "loop Finished!\n"
          ],
          "name": "stdout"
        }
      ]
    },
    {
      "cell_type": "code",
      "metadata": {
        "colab": {
          "base_uri": "https://localhost:8080/"
        },
        "id": "KrqwxzaWdXn9",
        "outputId": "96505e82-642e-4961-ed89-1e367a0a025b"
      },
      "source": [
        "for i in range(6):\r\n",
        "  if i == 4: break\r\n",
        "  print(i)\r\n",
        "else:\r\n",
        "  print(\"Loop finished!\")"
      ],
      "execution_count": 11,
      "outputs": [
        {
          "output_type": "stream",
          "text": [
            "0\n",
            "1\n",
            "2\n",
            "3\n"
          ],
          "name": "stdout"
        }
      ]
    },
    {
      "cell_type": "code",
      "metadata": {
        "colab": {
          "base_uri": "https://localhost:8080/"
        },
        "id": "S9qK5duSd0KA",
        "outputId": "34d1f1e9-ee5b-416e-9d99-f0ba581a9dbe"
      },
      "source": [
        "for i in range(6):\r\n",
        "  if i == 4: pass\r\n",
        "  print(i)\r\n",
        "else:\r\n",
        "  print(\"Loop finished!\")"
      ],
      "execution_count": 12,
      "outputs": [
        {
          "output_type": "stream",
          "text": [
            "0\n",
            "1\n",
            "2\n",
            "3\n",
            "4\n",
            "5\n",
            "Loop finished!\n"
          ],
          "name": "stdout"
        }
      ]
    },
    {
      "cell_type": "code",
      "metadata": {
        "colab": {
          "base_uri": "https://localhost:8080/"
        },
        "id": "_19iu6hvd5-V",
        "outputId": "5554b387-f059-4860-c6a8-37c9fec13f52"
      },
      "source": [
        "i=1\r\n",
        "while i<6:\r\n",
        "  print(i)\r\n",
        "  i+=1"
      ],
      "execution_count": 13,
      "outputs": [
        {
          "output_type": "stream",
          "text": [
            "1\n",
            "2\n",
            "3\n",
            "4\n",
            "5\n"
          ],
          "name": "stdout"
        }
      ]
    },
    {
      "cell_type": "code",
      "metadata": {
        "colab": {
          "base_uri": "https://localhost:8080/"
        },
        "id": "cNGN7NZMevWq",
        "outputId": "225a39f4-5afc-41fe-a028-a375343721ef"
      },
      "source": [
        "a = input(\"input a number\")"
      ],
      "execution_count": 17,
      "outputs": [
        {
          "output_type": "stream",
          "text": [
            "input a number2\n"
          ],
          "name": "stdout"
        }
      ]
    },
    {
      "cell_type": "code",
      "metadata": {
        "id": "k6RHtxnXeiUr"
      },
      "source": [
        ""
      ],
      "execution_count": null,
      "outputs": []
    },
    {
      "cell_type": "code",
      "metadata": {
        "id": "GOskiWYMeFKN"
      },
      "source": [
        "for x in [0,1,2]:\r\n",
        "  pass"
      ],
      "execution_count": 14,
      "outputs": []
    },
    {
      "cell_type": "code",
      "metadata": {
        "colab": {
          "base_uri": "https://localhost:8080/"
        },
        "id": "StCzqf80e8cx",
        "outputId": "b8a73076-5a4d-473e-fee1-b42536593e70"
      },
      "source": [
        "a = input(\"input a number\")\r\n",
        "int(a)"
      ],
      "execution_count": 18,
      "outputs": [
        {
          "output_type": "stream",
          "text": [
            "input a number5\n"
          ],
          "name": "stdout"
        },
        {
          "output_type": "execute_result",
          "data": {
            "text/plain": [
              "5"
            ]
          },
          "metadata": {
            "tags": []
          },
          "execution_count": 18
        }
      ]
    },
    {
      "cell_type": "code",
      "metadata": {
        "colab": {
          "base_uri": "https://localhost:8080/"
        },
        "id": "kRXwPMv9fah1",
        "outputId": "51a7dd02-630b-484e-885d-6f5e8324b1ce"
      },
      "source": [
        "a = input(\"input a number\")\r\n",
        "num = int(a)\r\n",
        "for i in range(1,11):\r\n",
        "  print(num, 'x', i, '=', num*i)"
      ],
      "execution_count": 26,
      "outputs": [
        {
          "output_type": "stream",
          "text": [
            "input a number4\n",
            "4 x 1 = 4\n",
            "4 x 2 = 8\n",
            "4 x 3 = 12\n",
            "4 x 4 = 16\n",
            "4 x 5 = 20\n",
            "4 x 6 = 24\n",
            "4 x 7 = 28\n",
            "4 x 8 = 32\n",
            "4 x 9 = 36\n",
            "4 x 10 = 40\n"
          ],
          "name": "stdout"
        }
      ]
    },
    {
      "cell_type": "code",
      "metadata": {
        "colab": {
          "base_uri": "https://localhost:8080/"
        },
        "id": "m9KtdgGUiVRR",
        "outputId": "4c2d2c08-d6e6-4431-b974-2d7f4f770b97"
      },
      "source": [
        "#ternary statement\r\n",
        "a,b=98,88\r\n",
        "print(a,b)\r\n",
        "min = a if a<b else b\r\n",
        "print(min)\r\n",
        "#print(\"both a and b are equal\" if a==b ,\"a is greater than b \" else if a>b, \"b is greater than a\" else)"
      ],
      "execution_count": 32,
      "outputs": [
        {
          "output_type": "stream",
          "text": [
            "98 88\n",
            "88\n"
          ],
          "name": "stdout"
        }
      ]
    },
    {
      "cell_type": "code",
      "metadata": {
        "colab": {
          "base_uri": "https://localhost:8080/"
        },
        "id": "ftVyr5UAm898",
        "outputId": "a5aaaf7d-3728-413d-89c4-05552d6615bd"
      },
      "source": [
        "#list tuple set  \r\n",
        "#list - ordered and item can be placed at the end. changable(add or remove). Allow duplicates\r\n",
        "mylist=[\"apple\",\"banana\",\"cherry\"]\r\n",
        "print(mylist)\r\n",
        "#tuple - Ordered and unchangable - no delete, no sord no addition and allow duplicate\r\n",
        "mytuple=(\"apple\",\"banana\",\"cherry\")\r\n",
        "print(mytuple)\r\n",
        "print(type(mytuple))\r\n",
        "#set - unordered and unchangeable and cannot be duplicated\r\n",
        "myset = {\"apple\",\"banana\",\"cherry\"}\r\n",
        "print(myset)\r\n",
        "#dictonary - key is not duplicate, unordered, changable\r\n",
        "mydict={\r\n",
        "    \"a\" : \"apple\",\r\n",
        "    \"b\" : \"bananan\",\r\n",
        "    \"c\" : \"cherry\"\r\n",
        "  }\r\n",
        "print(mydict)\r\n",
        "print(mydict[\"a\"])"
      ],
      "execution_count": 44,
      "outputs": [
        {
          "output_type": "stream",
          "text": [
            "['apple', 'banana', 'cherry']\n",
            "('apple', 'banana', 'cherry')\n",
            "<class 'tuple'>\n",
            "{'apple', 'cherry', 'banana'}\n",
            "{'a': 'apple', 'b': 'bananan', 'c': 'cherry'}\n",
            "apple\n"
          ],
          "name": "stdout"
        }
      ]
    },
    {
      "cell_type": "code",
      "metadata": {
        "colab": {
          "base_uri": "https://localhost:8080/"
        },
        "id": "lfRH12L-r0GO",
        "outputId": "3df187e4-50cf-4845-9da1-542c612405f4"
      },
      "source": [
        "#example\r\n",
        "a=\"*\"\r\n",
        "for i in range (5):\r\n",
        "  for j in range(i):\r\n",
        "    print(a)\r\n",
        "  print(\"\\n\")\r\n"
      ],
      "execution_count": 48,
      "outputs": [
        {
          "output_type": "stream",
          "text": [
            "\n",
            "\n",
            "*\n",
            "\n",
            "\n",
            "*\n",
            "*\n",
            "\n",
            "\n",
            "*\n",
            "*\n",
            "*\n",
            "\n",
            "\n",
            "*\n",
            "*\n",
            "*\n",
            "*\n",
            "\n",
            "\n"
          ],
          "name": "stdout"
        }
      ]
    },
    {
      "cell_type": "code",
      "metadata": {
        "colab": {
          "base_uri": "https://localhost:8080/"
        },
        "id": "42cGefTum9Sj",
        "outputId": "4686e93f-1374-4862-e625-e29bb40cbddd"
      },
      "source": [
        "#list of list\r\n",
        "mylist1=[\"apple\",\"banana\",\"cherry\"]\r\n",
        "mylist2=[\"Mango\",\"Grapes\",\"oranges\"]\r\n",
        "mylist3=[mylist1,mylist2]\r\n",
        "print(mylist3)\r\n",
        "print(type(mylist3))"
      ],
      "execution_count": 2,
      "outputs": [
        {
          "output_type": "stream",
          "text": [
            "[['apple', 'banana', 'cherry'], ['Mango', 'Grapes', 'oranges']]\n",
            "<class 'list'>\n"
          ],
          "name": "stdout"
        }
      ]
    },
    {
      "cell_type": "code",
      "metadata": {
        "colab": {
          "base_uri": "https://localhost:8080/"
        },
        "id": "VqRxevBWpLfa",
        "outputId": "6e5b94e8-432d-4e4d-8c3f-de99c3af039b"
      },
      "source": [
        "type(10.2)"
      ],
      "execution_count": 3,
      "outputs": [
        {
          "output_type": "execute_result",
          "data": {
            "text/plain": [
              "float"
            ]
          },
          "metadata": {
            "tags": []
          },
          "execution_count": 3
        }
      ]
    },
    {
      "cell_type": "code",
      "metadata": {
        "colab": {
          "base_uri": "https://localhost:8080/"
        },
        "id": "wnG9FVUvrfiw",
        "outputId": "40247e37-69b1-4bec-fb46-b6299c693c6e"
      },
      "source": [
        "mylist=[\"apple\",\"banana\",\"cherry\"]\r\n",
        "mylist.append(1)\r\n",
        "mylist.remove(\"apple\")\r\n",
        "mylist.insert(0,\"Mango\")\r\n",
        "mylist.insert(2,\"orange\")\r\n",
        "print(mylist)\r\n",
        "mylist.insert(3,1)\r\n",
        "mylist[1:3]=[2,55]\r\n",
        "print(mylist[0:6])\r\n",
        "mylist1=[\"apple\",\"banana\",\"cherry\"]\r\n",
        "mylist2=[\"Mango\",\"Grapes\",\"oranges\"]\r\n",
        "mylist3=[mylist1,mylist2]\r\n",
        "mylist4=mylist1+mylist2\r\n",
        "print(mylist3)\r\n",
        "print(mylist4)"
      ],
      "execution_count": 21,
      "outputs": [
        {
          "output_type": "stream",
          "text": [
            "['Mango', 'banana', 'orange', 'cherry', 1]\n",
            "['Mango', 2, 55, 1, 'cherry', 1]\n",
            "[['apple', 'banana', 'cherry'], ['Mango', 'Grapes', 'oranges']]\n",
            "['apple', 'banana', 'cherry', 'Mango', 'Grapes', 'oranges']\n"
          ],
          "name": "stdout"
        }
      ]
    },
    {
      "cell_type": "code",
      "metadata": {
        "colab": {
          "base_uri": "https://localhost:8080/"
        },
        "id": "LdBdW2dSvehF",
        "outputId": "49c5fcfd-8116-4cf4-c618-d5ec05367d22"
      },
      "source": [
        "mylist=[\"apple\",\"banana\",\"cherry\"]\r\n",
        "cplist=mylist.copy()\r\n",
        "print(mylist)\r\n",
        "cplist.append(1)\r\n",
        "print(cplist)"
      ],
      "execution_count": 20,
      "outputs": [
        {
          "output_type": "stream",
          "text": [
            "['apple', 'banana', 'cherry']\n",
            "['apple', 'banana', 'cherry', 1]\n"
          ],
          "name": "stdout"
        }
      ]
    },
    {
      "cell_type": "code",
      "metadata": {
        "colab": {
          "base_uri": "https://localhost:8080/"
        },
        "id": "DnZxfhtIxep5",
        "outputId": "b6d3a785-d15f-42a1-eb82-3d21f8556109"
      },
      "source": [
        "#tuple - Ordered and unchangable - no delete, no sord no addition and allow duplicate\r\n",
        "mytuple=(\"apple\",\"banana\",\"cherry\")\r\n",
        "print(mytuple)"
      ],
      "execution_count": 22,
      "outputs": [
        {
          "output_type": "stream",
          "text": [
            "('apple', 'banana', 'cherry')\n"
          ],
          "name": "stdout"
        }
      ]
    },
    {
      "cell_type": "code",
      "metadata": {
        "colab": {
          "base_uri": "https://localhost:8080/"
        },
        "id": "bEgtlYYAzCF6",
        "outputId": "2d2946e4-4a99-4cef-b2f2-2b5a4af0860d"
      },
      "source": [
        "mylist=list((\"apple\",\"banana\",\"cherry\"))\r\n",
        "mytuple2=tuple((\"apple\",\"banana\",\"cherry\"))\r\n",
        "mytuple=list(mytuple2)\r\n",
        "print(type(mylist))\r\n",
        "print(type(mytuple))"
      ],
      "execution_count": 28,
      "outputs": [
        {
          "output_type": "stream",
          "text": [
            "<class 'list'>\n",
            "<class 'list'>\n"
          ],
          "name": "stdout"
        }
      ]
    },
    {
      "cell_type": "code",
      "metadata": {
        "colab": {
          "base_uri": "https://localhost:8080/"
        },
        "id": "3jbwsRyALwSQ",
        "outputId": "c2599c5f-7fd9-42a7-ef04-4db7e53bac01"
      },
      "source": [
        "#Set duplicate is not allowed\r\n",
        "myset={\"apple\",\"banana\",\"cherry\"}\r\n",
        "myset.add(\"mango\")\r\n",
        "myset.add(\"grapes\")\r\n",
        "myset.remove(\"apple\")\r\n",
        "print(myset)\r\n",
        "\r\n",
        "myset2={\"a\",\"b\",\"c\"}\r\n",
        "myset3={\"apple\",\"banana\",\"cherry\"}\r\n",
        "myset4=myset2.union(myset3)\r\n",
        "print(myset4)"
      ],
      "execution_count": 12,
      "outputs": [
        {
          "output_type": "stream",
          "text": [
            "{'grapes', 'cherry', 'banana', 'mango'}\n",
            "{'a', 'b', 'apple', 'c', 'cherry', 'banana'}\n"
          ],
          "name": "stdout"
        }
      ]
    },
    {
      "cell_type": "code",
      "metadata": {
        "colab": {
          "base_uri": "https://localhost:8080/"
        },
        "id": "uJIIey0xQxsl",
        "outputId": "0e42baa0-de78-4481-b8a2-f87f174d138f"
      },
      "source": [
        "#Dictonary\r\n",
        "mydict={\r\n",
        "    \"a\" : \"apple\",\r\n",
        "    \"b\" : \"banana\",\r\n",
        "    \"c\" : \"cherry\",\r\n",
        "    \"colors\": [\"red\", \"white\", \"blue\"]\r\n",
        "}\r\n",
        "print(mydict.values())\r\n",
        "print(mydict.keys())\r\n",
        "print(mydict[\"b\"])\r\n",
        "print(mydict.get(\"c\"))\r\n",
        "mydict[\"xyz\"]=10\r\n",
        "mydict[\"Year\"]=2020\r\n",
        "mydict.pop(\"a\")\r\n",
        "mydict.update({\"b\" : \"banana1\"})\r\n",
        "print(mydict.values())"
      ],
      "execution_count": 23,
      "outputs": [
        {
          "output_type": "stream",
          "text": [
            "dict_values(['apple', 'banana', 'cherry', ['red', 'white', 'blue']])\n",
            "dict_keys(['a', 'b', 'c', 'colors'])\n",
            "banana\n",
            "cherry\n",
            "dict_values(['banana1', 'cherry', ['red', 'white', 'blue'], 10, 2020])\n"
          ],
          "name": "stdout"
        }
      ]
    },
    {
      "cell_type": "code",
      "metadata": {
        "colab": {
          "base_uri": "https://localhost:8080/"
        },
        "id": "O2p1tNfKTsSX",
        "outputId": "9611d944-42fd-461a-ebea-fbd51cabd73a"
      },
      "source": [
        "#disct loop\r\n",
        "mydict={\r\n",
        "    \"a\" : \"apple\",\r\n",
        "    \"b\" : \"banana\",\r\n",
        "    \"c\" : \"cherry\",\r\n",
        "    \"colors\": [\"red\", \"white\", \"blue\"]\r\n",
        "}\r\n",
        "for x in mydict:\r\n",
        "  print(x)\r\n",
        "print(\"\\n\")\r\n",
        "for x in mydict:\r\n",
        "  print(mydict[x])"
      ],
      "execution_count": 28,
      "outputs": [
        {
          "output_type": "stream",
          "text": [
            "a\n",
            "b\n",
            "c\n",
            "colors\n",
            "\n",
            "\n",
            "apple\n",
            "banana\n",
            "cherry\n",
            "['red', 'white', 'blue']\n"
          ],
          "name": "stdout"
        }
      ]
    },
    {
      "cell_type": "code",
      "metadata": {
        "colab": {
          "base_uri": "https://localhost:8080/"
        },
        "id": "vT0uwvUyUL7q",
        "outputId": "562f3b61-566d-4728-ff11-d1140abcd05e"
      },
      "source": [
        "#Dict loop\r\n",
        "thisdict={\r\n",
        "    \"a\" : \"apple\",\r\n",
        "    \"b\" : \"banana\",\r\n",
        "    \"c\" : \"cherry\",\r\n",
        "    \"colors\": [\"red\", \"white\", \"blue\"]\r\n",
        "}\r\n",
        "for x in thisdict.values():\r\n",
        "  print(x)\r\n",
        "\r\n",
        "for x in thisdict.keys():\r\n",
        "  print(x)\r\n",
        "\r\n",
        "for x in thisdict.items():\r\n",
        "  print(x)"
      ],
      "execution_count": 31,
      "outputs": [
        {
          "output_type": "stream",
          "text": [
            "apple\n",
            "banana\n",
            "cherry\n",
            "['red', 'white', 'blue']\n",
            "a\n",
            "b\n",
            "c\n",
            "colors\n",
            "('a', 'apple')\n",
            "('b', 'banana')\n",
            "('c', 'cherry')\n",
            "('colors', ['red', 'white', 'blue'])\n"
          ],
          "name": "stdout"
        }
      ]
    },
    {
      "cell_type": "code",
      "metadata": {
        "colab": {
          "base_uri": "https://localhost:8080/"
        },
        "id": "h205dAloUiK8",
        "outputId": "c098f514-7af5-453c-e24b-349b6788b7fd"
      },
      "source": [
        "#copy dict\r\n",
        "thisdict = {\r\n",
        "  \"brand\": \"Ford\",\r\n",
        "  \"model\": \"Mustang\",\r\n",
        "  \"year\": 1964\r\n",
        "}\r\n",
        "mydict = thisdict.copy()\r\n",
        "print(mydict)"
      ],
      "execution_count": 32,
      "outputs": [
        {
          "output_type": "stream",
          "text": [
            "{'brand': 'Ford', 'model': 'Mustang', 'year': 1964}\n"
          ],
          "name": "stdout"
        }
      ]
    },
    {
      "cell_type": "code",
      "metadata": {
        "colab": {
          "base_uri": "https://localhost:8080/"
        },
        "id": "ibfG-Ep_Uq9d",
        "outputId": "36df04cd-06a9-45f1-8e74-bc35d8a98fff"
      },
      "source": [
        "#nested Dict\r\n",
        "myfamily = {\r\n",
        "  \"child1\" : {\r\n",
        "    \"name\" : \"Emil\",\r\n",
        "    \"year\" : 2004\r\n",
        "  },\r\n",
        "  \"child2\" : {\r\n",
        "    \"name\" : \"Tobias\",\r\n",
        "    \"year\" : 2007\r\n",
        "  },\r\n",
        "  \"child3\" : {\r\n",
        "    \"name\" : \"Linus\",\r\n",
        "    \"year\" : 2011\r\n",
        "  }\r\n",
        "}\r\n",
        "\r\n",
        "print(myfamily)\r\n",
        "print(myfamily[\"child1\"][\"name\"])"
      ],
      "execution_count": 37,
      "outputs": [
        {
          "output_type": "stream",
          "text": [
            "{'child1': {'name': 'Emil', 'year': 2004}, 'child2': {'name': 'Tobias', 'year': 2007}, 'child3': {'name': 'Linus', 'year': 2011}}\n",
            "Emil\n"
          ],
          "name": "stdout"
        }
      ]
    },
    {
      "cell_type": "code",
      "metadata": {
        "colab": {
          "base_uri": "https://localhost:8080/"
        },
        "id": "oJ7VefakWiS7",
        "outputId": "201b8c1a-9b84-46a1-9c5a-e9963e13eeee"
      },
      "source": [
        "from array import *\r\n",
        "array1=array('i',[10,20,30,40,50])\r\n",
        "#array2=array('c',[\"a\",\"b\",\"p\",\"p\",\"l\",\"e\"])\r\n",
        "#print(array2[0])\r\n",
        "print(array1[0])"
      ],
      "execution_count": 47,
      "outputs": [
        {
          "output_type": "stream",
          "text": [
            "10\n"
          ],
          "name": "stdout"
        }
      ]
    },
    {
      "cell_type": "code",
      "metadata": {
        "colab": {
          "base_uri": "https://localhost:8080/",
          "height": 212
        },
        "id": "ePY2zZsGYpy3",
        "outputId": "f6b86f80-6fb0-430a-ff14-7aa388ceaf7c"
      },
      "source": [
        "#wb = gc.create('demo')\r\n",
        "#!touch \"/content/gdrive/My Drive/sample_file.txt\"\r\n",
        "#file handling\r\n",
        "##from google.colab import files\r\n",
        "#uploaded = files.upload()\r\n",
        "f = open(\"https://raw.githubusercontent.com/kashifabbas08/testrepository.123/main/Test%20Meters.csv\",'r')\r\n",
        "f.readlines()\r\n"
      ],
      "execution_count": 60,
      "outputs": [
        {
          "output_type": "error",
          "ename": "FileNotFoundError",
          "evalue": "ignored",
          "traceback": [
            "\u001b[0;31m---------------------------------------------------------------------------\u001b[0m",
            "\u001b[0;31mFileNotFoundError\u001b[0m                         Traceback (most recent call last)",
            "\u001b[0;32m<ipython-input-60-71eea1a5282a>\u001b[0m in \u001b[0;36m<module>\u001b[0;34m()\u001b[0m\n\u001b[1;32m      4\u001b[0m \u001b[0;31m##from google.colab import files\u001b[0m\u001b[0;34m\u001b[0m\u001b[0;34m\u001b[0m\u001b[0;34m\u001b[0m\u001b[0m\n\u001b[1;32m      5\u001b[0m \u001b[0;31m#uploaded = files.upload()\u001b[0m\u001b[0;34m\u001b[0m\u001b[0;34m\u001b[0m\u001b[0;34m\u001b[0m\u001b[0m\n\u001b[0;32m----> 6\u001b[0;31m \u001b[0mf\u001b[0m \u001b[0;34m=\u001b[0m \u001b[0mopen\u001b[0m\u001b[0;34m(\u001b[0m\u001b[0;34m\"https://raw.githubusercontent.com/kashifabbas08/testrepository.123/main/Test%20Meters.csv\"\u001b[0m\u001b[0;34m,\u001b[0m\u001b[0;34m'r'\u001b[0m\u001b[0;34m)\u001b[0m\u001b[0;34m\u001b[0m\u001b[0;34m\u001b[0m\u001b[0m\n\u001b[0m\u001b[1;32m      7\u001b[0m \u001b[0mf\u001b[0m\u001b[0;34m.\u001b[0m\u001b[0mreadlines\u001b[0m\u001b[0;34m(\u001b[0m\u001b[0;34m)\u001b[0m\u001b[0;34m\u001b[0m\u001b[0;34m\u001b[0m\u001b[0m\n",
            "\u001b[0;31mFileNotFoundError\u001b[0m: [Errno 2] No such file or directory: 'https://raw.githubusercontent.com/kashifabbas08/testrepository.123/main/Test%20Meters.csv'"
          ]
        }
      ]
    },
    {
      "cell_type": "code",
      "metadata": {
        "colab": {
          "base_uri": "https://localhost:8080/",
          "height": 748
        },
        "id": "7o_tm4mYhJSk",
        "outputId": "528be442-dacc-4afa-a101-2a9779f78a11"
      },
      "source": [
        "import pandas as pd\r\n",
        "import requests\r\n",
        "\r\n",
        "pd.read_csv(\"https://raw.githubusercontent.com/kashifabbas08/testrepository.123/main/Test%20Meters.csv\")"
      ],
      "execution_count": 62,
      "outputs": [
        {
          "output_type": "execute_result",
          "data": {
            "text/html": [
              "<div>\n",
              "<style scoped>\n",
              "    .dataframe tbody tr th:only-of-type {\n",
              "        vertical-align: middle;\n",
              "    }\n",
              "\n",
              "    .dataframe tbody tr th {\n",
              "        vertical-align: top;\n",
              "    }\n",
              "\n",
              "    .dataframe thead th {\n",
              "        text-align: right;\n",
              "    }\n",
              "</style>\n",
              "<table border=\"1\" class=\"dataframe\">\n",
              "  <thead>\n",
              "    <tr style=\"text-align: right;\">\n",
              "      <th></th>\n",
              "      <th>25780</th>\n",
              "      <th>524139</th>\n",
              "      <th>34</th>\n",
              "      <th>34.1</th>\n",
              "      <th>ITE.102.00.00653433</th>\n",
              "      <th>1073</th>\n",
              "      <th>NULL</th>\n",
              "      <th>21:27.0</th>\n",
              "      <th>32</th>\n",
              "      <th>1</th>\n",
              "      <th>00:00.0</th>\n",
              "      <th>67177474</th>\n",
              "      <th>NULL.1</th>\n",
              "      <th>NULL.2</th>\n",
              "      <th>NULL.3</th>\n",
              "      <th>1.1</th>\n",
              "      <th>NULL.4</th>\n",
              "      <th>NULL.5</th>\n",
              "      <th>NULL.6</th>\n",
              "      <th>1.2</th>\n",
              "      <th>NULL.7</th>\n",
              "      <th>F</th>\n",
              "      <th>NULL.8</th>\n",
              "      <th>NULL.9</th>\n",
              "      <th>NULL.10</th>\n",
              "      <th>NULL.11</th>\n",
              "      <th>NULL.12</th>\n",
              "      <th>NULL.13</th>\n",
              "      <th>NULL.14</th>\n",
              "      <th>NULL.15</th>\n",
              "      <th>21:35.6</th>\n",
              "      <th>21:27.4</th>\n",
              "      <th>24:39.6</th>\n",
              "      <th>NULL.16</th>\n",
              "      <th>NULL.17</th>\n",
              "      <th>NULL.18</th>\n",
              "      <th>NULL.19</th>\n",
              "      <th>NULL.20</th>\n",
              "      <th>0</th>\n",
              "      <th>32.1</th>\n",
              "      <th>653433</th>\n",
              "      <th>F.1</th>\n",
              "      <th>0.1</th>\n",
              "      <th>NULL.21</th>\n",
              "      <th>1073.1</th>\n",
              "      <th>0x0000000000598764</th>\n",
              "      <th>NULL.22</th>\n",
              "    </tr>\n",
              "  </thead>\n",
              "  <tbody>\n",
              "    <tr>\n",
              "      <th>0</th>\n",
              "      <td>25781</td>\n",
              "      <td>524140</td>\n",
              "      <td>34</td>\n",
              "      <td>34</td>\n",
              "      <td>ITE.102.00.00653434</td>\n",
              "      <td>1073</td>\n",
              "      <td>NaN</td>\n",
              "      <td>10:24.0</td>\n",
              "      <td>32</td>\n",
              "      <td>1</td>\n",
              "      <td>00:00.0</td>\n",
              "      <td>67177474</td>\n",
              "      <td>NaN</td>\n",
              "      <td>NaN</td>\n",
              "      <td>NaN</td>\n",
              "      <td>1</td>\n",
              "      <td>NaN</td>\n",
              "      <td>NaN</td>\n",
              "      <td>NaN</td>\n",
              "      <td>1</td>\n",
              "      <td>NaN</td>\n",
              "      <td>F</td>\n",
              "      <td>NaN</td>\n",
              "      <td>NaN</td>\n",
              "      <td>NaN</td>\n",
              "      <td>NaN</td>\n",
              "      <td>NaN</td>\n",
              "      <td>NaN</td>\n",
              "      <td>NaN</td>\n",
              "      <td>NaN</td>\n",
              "      <td>21:35.6</td>\n",
              "      <td>10:24.8</td>\n",
              "      <td>34:19.5</td>\n",
              "      <td>NaN</td>\n",
              "      <td>NaN</td>\n",
              "      <td>NaN</td>\n",
              "      <td>NaN</td>\n",
              "      <td>NaN</td>\n",
              "      <td>0</td>\n",
              "      <td>32</td>\n",
              "      <td>653434</td>\n",
              "      <td>F</td>\n",
              "      <td>0</td>\n",
              "      <td>NaN</td>\n",
              "      <td>1073</td>\n",
              "      <td>0x0000000000598968</td>\n",
              "      <td>NaN</td>\n",
              "    </tr>\n",
              "    <tr>\n",
              "      <th>1</th>\n",
              "      <td>25782</td>\n",
              "      <td>524141</td>\n",
              "      <td>34</td>\n",
              "      <td>34</td>\n",
              "      <td>ITE.102.00.00653435</td>\n",
              "      <td>1073</td>\n",
              "      <td>NaN</td>\n",
              "      <td>19:27.0</td>\n",
              "      <td>32</td>\n",
              "      <td>1</td>\n",
              "      <td>00:00.0</td>\n",
              "      <td>67177474</td>\n",
              "      <td>NaN</td>\n",
              "      <td>NaN</td>\n",
              "      <td>NaN</td>\n",
              "      <td>1</td>\n",
              "      <td>NaN</td>\n",
              "      <td>NaN</td>\n",
              "      <td>NaN</td>\n",
              "      <td>1</td>\n",
              "      <td>NaN</td>\n",
              "      <td>F</td>\n",
              "      <td>NaN</td>\n",
              "      <td>NaN</td>\n",
              "      <td>NaN</td>\n",
              "      <td>NaN</td>\n",
              "      <td>NaN</td>\n",
              "      <td>NaN</td>\n",
              "      <td>NaN</td>\n",
              "      <td>NaN</td>\n",
              "      <td>21:35.6</td>\n",
              "      <td>19:27.1</td>\n",
              "      <td>53:42.8</td>\n",
              "      <td>NaN</td>\n",
              "      <td>NaN</td>\n",
              "      <td>NaN</td>\n",
              "      <td>NaN</td>\n",
              "      <td>NaN</td>\n",
              "      <td>0</td>\n",
              "      <td>32</td>\n",
              "      <td>653435</td>\n",
              "      <td>F</td>\n",
              "      <td>0</td>\n",
              "      <td>NaN</td>\n",
              "      <td>1073</td>\n",
              "      <td>0x0000000000598E4F</td>\n",
              "      <td>NaN</td>\n",
              "    </tr>\n",
              "    <tr>\n",
              "      <th>2</th>\n",
              "      <td>25783</td>\n",
              "      <td>524142</td>\n",
              "      <td>34</td>\n",
              "      <td>34</td>\n",
              "      <td>ITE.102.00.00653436</td>\n",
              "      <td>1073</td>\n",
              "      <td>NaN</td>\n",
              "      <td>11:23.0</td>\n",
              "      <td>32</td>\n",
              "      <td>1</td>\n",
              "      <td>00:00.0</td>\n",
              "      <td>67177474</td>\n",
              "      <td>NaN</td>\n",
              "      <td>NaN</td>\n",
              "      <td>NaN</td>\n",
              "      <td>1</td>\n",
              "      <td>NaN</td>\n",
              "      <td>NaN</td>\n",
              "      <td>NaN</td>\n",
              "      <td>1</td>\n",
              "      <td>NaN</td>\n",
              "      <td>F</td>\n",
              "      <td>NaN</td>\n",
              "      <td>NaN</td>\n",
              "      <td>NaN</td>\n",
              "      <td>NaN</td>\n",
              "      <td>NaN</td>\n",
              "      <td>NaN</td>\n",
              "      <td>NaN</td>\n",
              "      <td>NaN</td>\n",
              "      <td>21:35.6</td>\n",
              "      <td>11:23.6</td>\n",
              "      <td>32:03.7</td>\n",
              "      <td>NaN</td>\n",
              "      <td>NaN</td>\n",
              "      <td>NaN</td>\n",
              "      <td>NaN</td>\n",
              "      <td>NaN</td>\n",
              "      <td>0</td>\n",
              "      <td>32</td>\n",
              "      <td>653436</td>\n",
              "      <td>F</td>\n",
              "      <td>0</td>\n",
              "      <td>NaN</td>\n",
              "      <td>1073</td>\n",
              "      <td>0x00000000005988E8</td>\n",
              "      <td>NaN</td>\n",
              "    </tr>\n",
              "    <tr>\n",
              "      <th>3</th>\n",
              "      <td>25784</td>\n",
              "      <td>524143</td>\n",
              "      <td>34</td>\n",
              "      <td>34</td>\n",
              "      <td>ITE.102.00.00653437</td>\n",
              "      <td>1073</td>\n",
              "      <td>NaN</td>\n",
              "      <td>31:49.0</td>\n",
              "      <td>32</td>\n",
              "      <td>1</td>\n",
              "      <td>00:00.0</td>\n",
              "      <td>67177474</td>\n",
              "      <td>NaN</td>\n",
              "      <td>NaN</td>\n",
              "      <td>NaN</td>\n",
              "      <td>1</td>\n",
              "      <td>NaN</td>\n",
              "      <td>NaN</td>\n",
              "      <td>NaN</td>\n",
              "      <td>1</td>\n",
              "      <td>NaN</td>\n",
              "      <td>F</td>\n",
              "      <td>NaN</td>\n",
              "      <td>NaN</td>\n",
              "      <td>NaN</td>\n",
              "      <td>NaN</td>\n",
              "      <td>NaN</td>\n",
              "      <td>NaN</td>\n",
              "      <td>NaN</td>\n",
              "      <td>NaN</td>\n",
              "      <td>21:35.6</td>\n",
              "      <td>31:49.1</td>\n",
              "      <td>15:29.7</td>\n",
              "      <td>NaN</td>\n",
              "      <td>NaN</td>\n",
              "      <td>NaN</td>\n",
              "      <td>NaN</td>\n",
              "      <td>NaN</td>\n",
              "      <td>0</td>\n",
              "      <td>32</td>\n",
              "      <td>653437</td>\n",
              "      <td>F</td>\n",
              "      <td>0</td>\n",
              "      <td>NaN</td>\n",
              "      <td>1073</td>\n",
              "      <td>0x0000000000598503</td>\n",
              "      <td>NaN</td>\n",
              "    </tr>\n",
              "    <tr>\n",
              "      <th>4</th>\n",
              "      <td>25785</td>\n",
              "      <td>524144</td>\n",
              "      <td>34</td>\n",
              "      <td>34</td>\n",
              "      <td>ITE.102.00.00653438</td>\n",
              "      <td>1073</td>\n",
              "      <td>NaN</td>\n",
              "      <td>14:07.0</td>\n",
              "      <td>32</td>\n",
              "      <td>1</td>\n",
              "      <td>00:00.0</td>\n",
              "      <td>67177474</td>\n",
              "      <td>NaN</td>\n",
              "      <td>NaN</td>\n",
              "      <td>NaN</td>\n",
              "      <td>1</td>\n",
              "      <td>NaN</td>\n",
              "      <td>NaN</td>\n",
              "      <td>NaN</td>\n",
              "      <td>1</td>\n",
              "      <td>NaN</td>\n",
              "      <td>F</td>\n",
              "      <td>NaN</td>\n",
              "      <td>NaN</td>\n",
              "      <td>NaN</td>\n",
              "      <td>NaN</td>\n",
              "      <td>NaN</td>\n",
              "      <td>NaN</td>\n",
              "      <td>NaN</td>\n",
              "      <td>NaN</td>\n",
              "      <td>21:35.6</td>\n",
              "      <td>14:07.2</td>\n",
              "      <td>11:26.0</td>\n",
              "      <td>NaN</td>\n",
              "      <td>NaN</td>\n",
              "      <td>NaN</td>\n",
              "      <td>NaN</td>\n",
              "      <td>NaN</td>\n",
              "      <td>0</td>\n",
              "      <td>32</td>\n",
              "      <td>653438</td>\n",
              "      <td>F</td>\n",
              "      <td>0</td>\n",
              "      <td>NaN</td>\n",
              "      <td>1073</td>\n",
              "      <td>0x00000000005983FF</td>\n",
              "      <td>NaN</td>\n",
              "    </tr>\n",
              "    <tr>\n",
              "      <th>5</th>\n",
              "      <td>25786</td>\n",
              "      <td>524145</td>\n",
              "      <td>34</td>\n",
              "      <td>34</td>\n",
              "      <td>ITE.102.00.00653439</td>\n",
              "      <td>1073</td>\n",
              "      <td>NaN</td>\n",
              "      <td>25:12.0</td>\n",
              "      <td>32</td>\n",
              "      <td>1</td>\n",
              "      <td>00:00.0</td>\n",
              "      <td>67177474</td>\n",
              "      <td>NaN</td>\n",
              "      <td>NaN</td>\n",
              "      <td>NaN</td>\n",
              "      <td>1</td>\n",
              "      <td>NaN</td>\n",
              "      <td>NaN</td>\n",
              "      <td>NaN</td>\n",
              "      <td>1</td>\n",
              "      <td>NaN</td>\n",
              "      <td>F</td>\n",
              "      <td>NaN</td>\n",
              "      <td>NaN</td>\n",
              "      <td>NaN</td>\n",
              "      <td>NaN</td>\n",
              "      <td>NaN</td>\n",
              "      <td>NaN</td>\n",
              "      <td>NaN</td>\n",
              "      <td>NaN</td>\n",
              "      <td>21:35.6</td>\n",
              "      <td>25:12.4</td>\n",
              "      <td>23:31.2</td>\n",
              "      <td>NaN</td>\n",
              "      <td>NaN</td>\n",
              "      <td>NaN</td>\n",
              "      <td>NaN</td>\n",
              "      <td>NaN</td>\n",
              "      <td>0</td>\n",
              "      <td>32</td>\n",
              "      <td>653439</td>\n",
              "      <td>F</td>\n",
              "      <td>0</td>\n",
              "      <td>NaN</td>\n",
              "      <td>1073</td>\n",
              "      <td>0x00000000005986E4</td>\n",
              "      <td>NaN</td>\n",
              "    </tr>\n",
              "    <tr>\n",
              "      <th>6</th>\n",
              "      <td>25787</td>\n",
              "      <td>524146</td>\n",
              "      <td>34</td>\n",
              "      <td>34</td>\n",
              "      <td>ITE.102.00.00653440</td>\n",
              "      <td>1073</td>\n",
              "      <td>NaN</td>\n",
              "      <td>27:21.0</td>\n",
              "      <td>32</td>\n",
              "      <td>1</td>\n",
              "      <td>00:00.0</td>\n",
              "      <td>67177474</td>\n",
              "      <td>NaN</td>\n",
              "      <td>NaN</td>\n",
              "      <td>NaN</td>\n",
              "      <td>1</td>\n",
              "      <td>NaN</td>\n",
              "      <td>NaN</td>\n",
              "      <td>NaN</td>\n",
              "      <td>1</td>\n",
              "      <td>NaN</td>\n",
              "      <td>F</td>\n",
              "      <td>NaN</td>\n",
              "      <td>NaN</td>\n",
              "      <td>NaN</td>\n",
              "      <td>NaN</td>\n",
              "      <td>NaN</td>\n",
              "      <td>NaN</td>\n",
              "      <td>NaN</td>\n",
              "      <td>NaN</td>\n",
              "      <td>21:35.6</td>\n",
              "      <td>44:52.7</td>\n",
              "      <td>45:29.9</td>\n",
              "      <td>NaN</td>\n",
              "      <td>NaN</td>\n",
              "      <td>NaN</td>\n",
              "      <td>NaN</td>\n",
              "      <td>NaN</td>\n",
              "      <td>0</td>\n",
              "      <td>32</td>\n",
              "      <td>653440</td>\n",
              "      <td>F</td>\n",
              "      <td>0</td>\n",
              "      <td>NaN</td>\n",
              "      <td>1073</td>\n",
              "      <td>0x0000000000598C18</td>\n",
              "      <td>NaN</td>\n",
              "    </tr>\n",
              "    <tr>\n",
              "      <th>7</th>\n",
              "      <td>25788</td>\n",
              "      <td>524147</td>\n",
              "      <td>34</td>\n",
              "      <td>34</td>\n",
              "      <td>ITE.102.00.00653441</td>\n",
              "      <td>1073</td>\n",
              "      <td>NaN</td>\n",
              "      <td>58:47.0</td>\n",
              "      <td>32</td>\n",
              "      <td>1</td>\n",
              "      <td>00:00.0</td>\n",
              "      <td>67177474</td>\n",
              "      <td>NaN</td>\n",
              "      <td>NaN</td>\n",
              "      <td>NaN</td>\n",
              "      <td>1</td>\n",
              "      <td>NaN</td>\n",
              "      <td>NaN</td>\n",
              "      <td>NaN</td>\n",
              "      <td>1</td>\n",
              "      <td>NaN</td>\n",
              "      <td>F</td>\n",
              "      <td>NaN</td>\n",
              "      <td>NaN</td>\n",
              "      <td>NaN</td>\n",
              "      <td>NaN</td>\n",
              "      <td>NaN</td>\n",
              "      <td>NaN</td>\n",
              "      <td>NaN</td>\n",
              "      <td>NaN</td>\n",
              "      <td>21:35.6</td>\n",
              "      <td>58:47.7</td>\n",
              "      <td>26:10.1</td>\n",
              "      <td>NaN</td>\n",
              "      <td>NaN</td>\n",
              "      <td>NaN</td>\n",
              "      <td>NaN</td>\n",
              "      <td>NaN</td>\n",
              "      <td>0</td>\n",
              "      <td>32</td>\n",
              "      <td>653441</td>\n",
              "      <td>F</td>\n",
              "      <td>0</td>\n",
              "      <td>NaN</td>\n",
              "      <td>1073</td>\n",
              "      <td>0x00000000005987AC</td>\n",
              "      <td>NaN</td>\n",
              "    </tr>\n",
              "    <tr>\n",
              "      <th>8</th>\n",
              "      <td>25789</td>\n",
              "      <td>524148</td>\n",
              "      <td>34</td>\n",
              "      <td>34</td>\n",
              "      <td>ITE.102.00.00653442</td>\n",
              "      <td>1073</td>\n",
              "      <td>NaN</td>\n",
              "      <td>32:31.0</td>\n",
              "      <td>32</td>\n",
              "      <td>1</td>\n",
              "      <td>00:00.0</td>\n",
              "      <td>67177474</td>\n",
              "      <td>NaN</td>\n",
              "      <td>NaN</td>\n",
              "      <td>NaN</td>\n",
              "      <td>1</td>\n",
              "      <td>NaN</td>\n",
              "      <td>NaN</td>\n",
              "      <td>NaN</td>\n",
              "      <td>1</td>\n",
              "      <td>NaN</td>\n",
              "      <td>F</td>\n",
              "      <td>NaN</td>\n",
              "      <td>NaN</td>\n",
              "      <td>NaN</td>\n",
              "      <td>NaN</td>\n",
              "      <td>NaN</td>\n",
              "      <td>NaN</td>\n",
              "      <td>NaN</td>\n",
              "      <td>NaN</td>\n",
              "      <td>21:35.6</td>\n",
              "      <td>32:31.6</td>\n",
              "      <td>31:06.9</td>\n",
              "      <td>NaN</td>\n",
              "      <td>NaN</td>\n",
              "      <td>NaN</td>\n",
              "      <td>NaN</td>\n",
              "      <td>NaN</td>\n",
              "      <td>0</td>\n",
              "      <td>32</td>\n",
              "      <td>653442</td>\n",
              "      <td>F</td>\n",
              "      <td>0</td>\n",
              "      <td>NaN</td>\n",
              "      <td>1073</td>\n",
              "      <td>0x0000000000599694</td>\n",
              "      <td>NaN</td>\n",
              "    </tr>\n",
              "    <tr>\n",
              "      <th>9</th>\n",
              "      <td>25790</td>\n",
              "      <td>524149</td>\n",
              "      <td>34</td>\n",
              "      <td>34</td>\n",
              "      <td>ITE.102.00.00653443</td>\n",
              "      <td>1073</td>\n",
              "      <td>NaN</td>\n",
              "      <td>16:41.0</td>\n",
              "      <td>32</td>\n",
              "      <td>1</td>\n",
              "      <td>00:00.0</td>\n",
              "      <td>67177474</td>\n",
              "      <td>NaN</td>\n",
              "      <td>NaN</td>\n",
              "      <td>NaN</td>\n",
              "      <td>1</td>\n",
              "      <td>NaN</td>\n",
              "      <td>NaN</td>\n",
              "      <td>NaN</td>\n",
              "      <td>1</td>\n",
              "      <td>NaN</td>\n",
              "      <td>F</td>\n",
              "      <td>NaN</td>\n",
              "      <td>NaN</td>\n",
              "      <td>NaN</td>\n",
              "      <td>NaN</td>\n",
              "      <td>NaN</td>\n",
              "      <td>NaN</td>\n",
              "      <td>NaN</td>\n",
              "      <td>NaN</td>\n",
              "      <td>21:35.6</td>\n",
              "      <td>16:41.7</td>\n",
              "      <td>47:45.6</td>\n",
              "      <td>NaN</td>\n",
              "      <td>NaN</td>\n",
              "      <td>NaN</td>\n",
              "      <td>NaN</td>\n",
              "      <td>NaN</td>\n",
              "      <td>0</td>\n",
              "      <td>32</td>\n",
              "      <td>653443</td>\n",
              "      <td>F</td>\n",
              "      <td>0</td>\n",
              "      <td>NaN</td>\n",
              "      <td>1073</td>\n",
              "      <td>0x0000000000598CC9</td>\n",
              "      <td>NaN</td>\n",
              "    </tr>\n",
              "    <tr>\n",
              "      <th>10</th>\n",
              "      <td>25791</td>\n",
              "      <td>524150</td>\n",
              "      <td>34</td>\n",
              "      <td>34</td>\n",
              "      <td>ITE.102.00.00653444</td>\n",
              "      <td>1073</td>\n",
              "      <td>NaN</td>\n",
              "      <td>15:17.0</td>\n",
              "      <td>32</td>\n",
              "      <td>1</td>\n",
              "      <td>00:00.0</td>\n",
              "      <td>67177474</td>\n",
              "      <td>NaN</td>\n",
              "      <td>NaN</td>\n",
              "      <td>NaN</td>\n",
              "      <td>1</td>\n",
              "      <td>NaN</td>\n",
              "      <td>NaN</td>\n",
              "      <td>NaN</td>\n",
              "      <td>1</td>\n",
              "      <td>NaN</td>\n",
              "      <td>F</td>\n",
              "      <td>NaN</td>\n",
              "      <td>NaN</td>\n",
              "      <td>NaN</td>\n",
              "      <td>NaN</td>\n",
              "      <td>NaN</td>\n",
              "      <td>NaN</td>\n",
              "      <td>NaN</td>\n",
              "      <td>NaN</td>\n",
              "      <td>21:35.6</td>\n",
              "      <td>15:17.6</td>\n",
              "      <td>23:37.9</td>\n",
              "      <td>NaN</td>\n",
              "      <td>NaN</td>\n",
              "      <td>NaN</td>\n",
              "      <td>NaN</td>\n",
              "      <td>NaN</td>\n",
              "      <td>0</td>\n",
              "      <td>32</td>\n",
              "      <td>653444</td>\n",
              "      <td>F</td>\n",
              "      <td>0</td>\n",
              "      <td>NaN</td>\n",
              "      <td>1073</td>\n",
              "      <td>0x0000000000598705</td>\n",
              "      <td>NaN</td>\n",
              "    </tr>\n",
              "    <tr>\n",
              "      <th>11</th>\n",
              "      <td>25792</td>\n",
              "      <td>524151</td>\n",
              "      <td>34</td>\n",
              "      <td>34</td>\n",
              "      <td>ITE.102.00.00653445</td>\n",
              "      <td>1073</td>\n",
              "      <td>NaN</td>\n",
              "      <td>24:18.0</td>\n",
              "      <td>32</td>\n",
              "      <td>1</td>\n",
              "      <td>00:00.0</td>\n",
              "      <td>67177474</td>\n",
              "      <td>NaN</td>\n",
              "      <td>NaN</td>\n",
              "      <td>NaN</td>\n",
              "      <td>1</td>\n",
              "      <td>NaN</td>\n",
              "      <td>NaN</td>\n",
              "      <td>NaN</td>\n",
              "      <td>1</td>\n",
              "      <td>NaN</td>\n",
              "      <td>F</td>\n",
              "      <td>NaN</td>\n",
              "      <td>NaN</td>\n",
              "      <td>NaN</td>\n",
              "      <td>NaN</td>\n",
              "      <td>NaN</td>\n",
              "      <td>NaN</td>\n",
              "      <td>NaN</td>\n",
              "      <td>NaN</td>\n",
              "      <td>21:35.6</td>\n",
              "      <td>24:18.8</td>\n",
              "      <td>51:40.8</td>\n",
              "      <td>NaN</td>\n",
              "      <td>NaN</td>\n",
              "      <td>NaN</td>\n",
              "      <td>NaN</td>\n",
              "      <td>NaN</td>\n",
              "      <td>0</td>\n",
              "      <td>32</td>\n",
              "      <td>653445</td>\n",
              "      <td>F</td>\n",
              "      <td>0</td>\n",
              "      <td>NaN</td>\n",
              "      <td>1073</td>\n",
              "      <td>0x0000000000598D9B</td>\n",
              "      <td>NaN</td>\n",
              "    </tr>\n",
              "    <tr>\n",
              "      <th>12</th>\n",
              "      <td>25793</td>\n",
              "      <td>524152</td>\n",
              "      <td>34</td>\n",
              "      <td>34</td>\n",
              "      <td>ITE.102.00.00653446</td>\n",
              "      <td>1073</td>\n",
              "      <td>NaN</td>\n",
              "      <td>20:45.0</td>\n",
              "      <td>32</td>\n",
              "      <td>1</td>\n",
              "      <td>00:00.0</td>\n",
              "      <td>67177474</td>\n",
              "      <td>NaN</td>\n",
              "      <td>NaN</td>\n",
              "      <td>NaN</td>\n",
              "      <td>1</td>\n",
              "      <td>NaN</td>\n",
              "      <td>NaN</td>\n",
              "      <td>NaN</td>\n",
              "      <td>1</td>\n",
              "      <td>NaN</td>\n",
              "      <td>F</td>\n",
              "      <td>NaN</td>\n",
              "      <td>NaN</td>\n",
              "      <td>NaN</td>\n",
              "      <td>NaN</td>\n",
              "      <td>NaN</td>\n",
              "      <td>NaN</td>\n",
              "      <td>NaN</td>\n",
              "      <td>NaN</td>\n",
              "      <td>21:35.6</td>\n",
              "      <td>20:45.1</td>\n",
              "      <td>42:33.0</td>\n",
              "      <td>NaN</td>\n",
              "      <td>NaN</td>\n",
              "      <td>NaN</td>\n",
              "      <td>NaN</td>\n",
              "      <td>NaN</td>\n",
              "      <td>0</td>\n",
              "      <td>32</td>\n",
              "      <td>653446</td>\n",
              "      <td>F</td>\n",
              "      <td>0</td>\n",
              "      <td>NaN</td>\n",
              "      <td>1073</td>\n",
              "      <td>0x0000000000598B58</td>\n",
              "      <td>NaN</td>\n",
              "    </tr>\n",
              "    <tr>\n",
              "      <th>13</th>\n",
              "      <td>25794</td>\n",
              "      <td>524153</td>\n",
              "      <td>34</td>\n",
              "      <td>34</td>\n",
              "      <td>ITE.102.00.00653447</td>\n",
              "      <td>1073</td>\n",
              "      <td>NaN</td>\n",
              "      <td>29:20.0</td>\n",
              "      <td>32</td>\n",
              "      <td>1</td>\n",
              "      <td>00:00.0</td>\n",
              "      <td>67177474</td>\n",
              "      <td>NaN</td>\n",
              "      <td>NaN</td>\n",
              "      <td>NaN</td>\n",
              "      <td>1</td>\n",
              "      <td>NaN</td>\n",
              "      <td>NaN</td>\n",
              "      <td>NaN</td>\n",
              "      <td>1</td>\n",
              "      <td>NaN</td>\n",
              "      <td>F</td>\n",
              "      <td>NaN</td>\n",
              "      <td>NaN</td>\n",
              "      <td>NaN</td>\n",
              "      <td>NaN</td>\n",
              "      <td>NaN</td>\n",
              "      <td>NaN</td>\n",
              "      <td>NaN</td>\n",
              "      <td>NaN</td>\n",
              "      <td>21:35.6</td>\n",
              "      <td>29:20.1</td>\n",
              "      <td>35:58.7</td>\n",
              "      <td>NaN</td>\n",
              "      <td>NaN</td>\n",
              "      <td>NaN</td>\n",
              "      <td>NaN</td>\n",
              "      <td>NaN</td>\n",
              "      <td>0</td>\n",
              "      <td>32</td>\n",
              "      <td>653447</td>\n",
              "      <td>F</td>\n",
              "      <td>0</td>\n",
              "      <td>NaN</td>\n",
              "      <td>1073</td>\n",
              "      <td>0x0000000000598A15</td>\n",
              "      <td>NaN</td>\n",
              "    </tr>\n",
              "    <tr>\n",
              "      <th>14</th>\n",
              "      <td>25795</td>\n",
              "      <td>524154</td>\n",
              "      <td>34</td>\n",
              "      <td>34</td>\n",
              "      <td>ITE.102.00.00653448</td>\n",
              "      <td>1073</td>\n",
              "      <td>NaN</td>\n",
              "      <td>19:00.0</td>\n",
              "      <td>32</td>\n",
              "      <td>1</td>\n",
              "      <td>00:00.0</td>\n",
              "      <td>67177474</td>\n",
              "      <td>NaN</td>\n",
              "      <td>NaN</td>\n",
              "      <td>NaN</td>\n",
              "      <td>1</td>\n",
              "      <td>NaN</td>\n",
              "      <td>NaN</td>\n",
              "      <td>NaN</td>\n",
              "      <td>1</td>\n",
              "      <td>NaN</td>\n",
              "      <td>F</td>\n",
              "      <td>NaN</td>\n",
              "      <td>NaN</td>\n",
              "      <td>NaN</td>\n",
              "      <td>NaN</td>\n",
              "      <td>NaN</td>\n",
              "      <td>NaN</td>\n",
              "      <td>NaN</td>\n",
              "      <td>NaN</td>\n",
              "      <td>21:35.6</td>\n",
              "      <td>19:00.9</td>\n",
              "      <td>22:07.6</td>\n",
              "      <td>NaN</td>\n",
              "      <td>NaN</td>\n",
              "      <td>NaN</td>\n",
              "      <td>NaN</td>\n",
              "      <td>NaN</td>\n",
              "      <td>0</td>\n",
              "      <td>32</td>\n",
              "      <td>653448</td>\n",
              "      <td>F</td>\n",
              "      <td>0</td>\n",
              "      <td>NaN</td>\n",
              "      <td>1073</td>\n",
              "      <td>0x0000000000598718</td>\n",
              "      <td>NaN</td>\n",
              "    </tr>\n",
              "    <tr>\n",
              "      <th>15</th>\n",
              "      <td>25796</td>\n",
              "      <td>524155</td>\n",
              "      <td>34</td>\n",
              "      <td>34</td>\n",
              "      <td>ITE.102.00.00653449</td>\n",
              "      <td>1073</td>\n",
              "      <td>NaN</td>\n",
              "      <td>23:27.0</td>\n",
              "      <td>32</td>\n",
              "      <td>1</td>\n",
              "      <td>00:00.0</td>\n",
              "      <td>67177474</td>\n",
              "      <td>NaN</td>\n",
              "      <td>NaN</td>\n",
              "      <td>NaN</td>\n",
              "      <td>1</td>\n",
              "      <td>NaN</td>\n",
              "      <td>NaN</td>\n",
              "      <td>NaN</td>\n",
              "      <td>1</td>\n",
              "      <td>NaN</td>\n",
              "      <td>F</td>\n",
              "      <td>NaN</td>\n",
              "      <td>NaN</td>\n",
              "      <td>NaN</td>\n",
              "      <td>NaN</td>\n",
              "      <td>NaN</td>\n",
              "      <td>NaN</td>\n",
              "      <td>NaN</td>\n",
              "      <td>NaN</td>\n",
              "      <td>21:35.6</td>\n",
              "      <td>23:27.3</td>\n",
              "      <td>28:41.7</td>\n",
              "      <td>NaN</td>\n",
              "      <td>NaN</td>\n",
              "      <td>NaN</td>\n",
              "      <td>NaN</td>\n",
              "      <td>NaN</td>\n",
              "      <td>0</td>\n",
              "      <td>32</td>\n",
              "      <td>653449</td>\n",
              "      <td>F</td>\n",
              "      <td>0</td>\n",
              "      <td>NaN</td>\n",
              "      <td>1073</td>\n",
              "      <td>0x0000000000598824</td>\n",
              "      <td>NaN</td>\n",
              "    </tr>\n",
              "    <tr>\n",
              "      <th>16</th>\n",
              "      <td>25797</td>\n",
              "      <td>524156</td>\n",
              "      <td>34</td>\n",
              "      <td>34</td>\n",
              "      <td>ITE.102.00.00653450</td>\n",
              "      <td>1073</td>\n",
              "      <td>NaN</td>\n",
              "      <td>18:54.0</td>\n",
              "      <td>32</td>\n",
              "      <td>1</td>\n",
              "      <td>00:00.0</td>\n",
              "      <td>67177474</td>\n",
              "      <td>NaN</td>\n",
              "      <td>NaN</td>\n",
              "      <td>NaN</td>\n",
              "      <td>1</td>\n",
              "      <td>NaN</td>\n",
              "      <td>NaN</td>\n",
              "      <td>NaN</td>\n",
              "      <td>1</td>\n",
              "      <td>NaN</td>\n",
              "      <td>F</td>\n",
              "      <td>NaN</td>\n",
              "      <td>NaN</td>\n",
              "      <td>NaN</td>\n",
              "      <td>NaN</td>\n",
              "      <td>NaN</td>\n",
              "      <td>NaN</td>\n",
              "      <td>NaN</td>\n",
              "      <td>NaN</td>\n",
              "      <td>21:35.6</td>\n",
              "      <td>18:54.6</td>\n",
              "      <td>58:16.4</td>\n",
              "      <td>NaN</td>\n",
              "      <td>NaN</td>\n",
              "      <td>NaN</td>\n",
              "      <td>NaN</td>\n",
              "      <td>NaN</td>\n",
              "      <td>0</td>\n",
              "      <td>32</td>\n",
              "      <td>653450</td>\n",
              "      <td>F</td>\n",
              "      <td>0</td>\n",
              "      <td>NaN</td>\n",
              "      <td>1073</td>\n",
              "      <td>0x0000000000598F1C</td>\n",
              "      <td>NaN</td>\n",
              "    </tr>\n",
              "    <tr>\n",
              "      <th>17</th>\n",
              "      <td>25798</td>\n",
              "      <td>524157</td>\n",
              "      <td>34</td>\n",
              "      <td>34</td>\n",
              "      <td>ITE.102.00.00653451</td>\n",
              "      <td>1073</td>\n",
              "      <td>NaN</td>\n",
              "      <td>19:08.0</td>\n",
              "      <td>32</td>\n",
              "      <td>1</td>\n",
              "      <td>00:00.0</td>\n",
              "      <td>67177474</td>\n",
              "      <td>NaN</td>\n",
              "      <td>NaN</td>\n",
              "      <td>NaN</td>\n",
              "      <td>1</td>\n",
              "      <td>NaN</td>\n",
              "      <td>NaN</td>\n",
              "      <td>NaN</td>\n",
              "      <td>1</td>\n",
              "      <td>NaN</td>\n",
              "      <td>F</td>\n",
              "      <td>NaN</td>\n",
              "      <td>NaN</td>\n",
              "      <td>NaN</td>\n",
              "      <td>NaN</td>\n",
              "      <td>NaN</td>\n",
              "      <td>NaN</td>\n",
              "      <td>NaN</td>\n",
              "      <td>NaN</td>\n",
              "      <td>21:35.6</td>\n",
              "      <td>19:08.2</td>\n",
              "      <td>27:57.4</td>\n",
              "      <td>NaN</td>\n",
              "      <td>NaN</td>\n",
              "      <td>NaN</td>\n",
              "      <td>NaN</td>\n",
              "      <td>NaN</td>\n",
              "      <td>0</td>\n",
              "      <td>32</td>\n",
              "      <td>653451</td>\n",
              "      <td>F</td>\n",
              "      <td>0</td>\n",
              "      <td>NaN</td>\n",
              "      <td>1073</td>\n",
              "      <td>0x00000000005987E0</td>\n",
              "      <td>NaN</td>\n",
              "    </tr>\n",
              "    <tr>\n",
              "      <th>18</th>\n",
              "      <td>25799</td>\n",
              "      <td>524158</td>\n",
              "      <td>34</td>\n",
              "      <td>34</td>\n",
              "      <td>ITE.102.00.00653452</td>\n",
              "      <td>1073</td>\n",
              "      <td>NaN</td>\n",
              "      <td>20:16.0</td>\n",
              "      <td>32</td>\n",
              "      <td>1</td>\n",
              "      <td>00:00.0</td>\n",
              "      <td>67177474</td>\n",
              "      <td>NaN</td>\n",
              "      <td>NaN</td>\n",
              "      <td>NaN</td>\n",
              "      <td>1</td>\n",
              "      <td>NaN</td>\n",
              "      <td>NaN</td>\n",
              "      <td>NaN</td>\n",
              "      <td>1</td>\n",
              "      <td>NaN</td>\n",
              "      <td>F</td>\n",
              "      <td>NaN</td>\n",
              "      <td>NaN</td>\n",
              "      <td>NaN</td>\n",
              "      <td>NaN</td>\n",
              "      <td>NaN</td>\n",
              "      <td>NaN</td>\n",
              "      <td>NaN</td>\n",
              "      <td>NaN</td>\n",
              "      <td>21:35.6</td>\n",
              "      <td>20:16.4</td>\n",
              "      <td>43:07.6</td>\n",
              "      <td>NaN</td>\n",
              "      <td>NaN</td>\n",
              "      <td>NaN</td>\n",
              "      <td>NaN</td>\n",
              "      <td>NaN</td>\n",
              "      <td>0</td>\n",
              "      <td>32</td>\n",
              "      <td>653452</td>\n",
              "      <td>F</td>\n",
              "      <td>0</td>\n",
              "      <td>NaN</td>\n",
              "      <td>1073</td>\n",
              "      <td>0x0000000000598B92</td>\n",
              "      <td>NaN</td>\n",
              "    </tr>\n",
              "    <tr>\n",
              "      <th>19</th>\n",
              "      <td>25800</td>\n",
              "      <td>524159</td>\n",
              "      <td>34</td>\n",
              "      <td>34</td>\n",
              "      <td>ITE.102.00.00653453</td>\n",
              "      <td>1073</td>\n",
              "      <td>NaN</td>\n",
              "      <td>28:39.0</td>\n",
              "      <td>32</td>\n",
              "      <td>1</td>\n",
              "      <td>00:00.0</td>\n",
              "      <td>67177474</td>\n",
              "      <td>NaN</td>\n",
              "      <td>NaN</td>\n",
              "      <td>NaN</td>\n",
              "      <td>1</td>\n",
              "      <td>NaN</td>\n",
              "      <td>NaN</td>\n",
              "      <td>NaN</td>\n",
              "      <td>1</td>\n",
              "      <td>NaN</td>\n",
              "      <td>F</td>\n",
              "      <td>NaN</td>\n",
              "      <td>NaN</td>\n",
              "      <td>NaN</td>\n",
              "      <td>NaN</td>\n",
              "      <td>NaN</td>\n",
              "      <td>NaN</td>\n",
              "      <td>NaN</td>\n",
              "      <td>NaN</td>\n",
              "      <td>21:35.6</td>\n",
              "      <td>28:39.7</td>\n",
              "      <td>26:16.7</td>\n",
              "      <td>NaN</td>\n",
              "      <td>NaN</td>\n",
              "      <td>NaN</td>\n",
              "      <td>NaN</td>\n",
              "      <td>NaN</td>\n",
              "      <td>0</td>\n",
              "      <td>32</td>\n",
              "      <td>653453</td>\n",
              "      <td>F</td>\n",
              "      <td>0</td>\n",
              "      <td>NaN</td>\n",
              "      <td>1073</td>\n",
              "      <td>0x00000000005987AD</td>\n",
              "      <td>NaN</td>\n",
              "    </tr>\n",
              "    <tr>\n",
              "      <th>20</th>\n",
              "      <td>25801</td>\n",
              "      <td>524160</td>\n",
              "      <td>34</td>\n",
              "      <td>34</td>\n",
              "      <td>ITE.102.00.00653454</td>\n",
              "      <td>1073</td>\n",
              "      <td>NaN</td>\n",
              "      <td>19:13.0</td>\n",
              "      <td>32</td>\n",
              "      <td>1</td>\n",
              "      <td>00:00.0</td>\n",
              "      <td>67177474</td>\n",
              "      <td>NaN</td>\n",
              "      <td>NaN</td>\n",
              "      <td>NaN</td>\n",
              "      <td>1</td>\n",
              "      <td>NaN</td>\n",
              "      <td>NaN</td>\n",
              "      <td>NaN</td>\n",
              "      <td>1</td>\n",
              "      <td>NaN</td>\n",
              "      <td>F</td>\n",
              "      <td>NaN</td>\n",
              "      <td>NaN</td>\n",
              "      <td>NaN</td>\n",
              "      <td>NaN</td>\n",
              "      <td>NaN</td>\n",
              "      <td>NaN</td>\n",
              "      <td>NaN</td>\n",
              "      <td>NaN</td>\n",
              "      <td>21:35.6</td>\n",
              "      <td>46:46.7</td>\n",
              "      <td>51:48.3</td>\n",
              "      <td>NaN</td>\n",
              "      <td>NaN</td>\n",
              "      <td>NaN</td>\n",
              "      <td>NaN</td>\n",
              "      <td>NaN</td>\n",
              "      <td>0</td>\n",
              "      <td>32</td>\n",
              "      <td>653454</td>\n",
              "      <td>F</td>\n",
              "      <td>0</td>\n",
              "      <td>NaN</td>\n",
              "      <td>1073</td>\n",
              "      <td>0x0000000000598D9D</td>\n",
              "      <td>NaN</td>\n",
              "    </tr>\n",
              "    <tr>\n",
              "      <th>21</th>\n",
              "      <td>25802</td>\n",
              "      <td>524161</td>\n",
              "      <td>34</td>\n",
              "      <td>34</td>\n",
              "      <td>ITE.102.00.00653455</td>\n",
              "      <td>1073</td>\n",
              "      <td>NaN</td>\n",
              "      <td>19:33.0</td>\n",
              "      <td>32</td>\n",
              "      <td>1</td>\n",
              "      <td>00:00.0</td>\n",
              "      <td>67177474</td>\n",
              "      <td>NaN</td>\n",
              "      <td>NaN</td>\n",
              "      <td>NaN</td>\n",
              "      <td>1</td>\n",
              "      <td>NaN</td>\n",
              "      <td>NaN</td>\n",
              "      <td>NaN</td>\n",
              "      <td>1</td>\n",
              "      <td>NaN</td>\n",
              "      <td>F</td>\n",
              "      <td>NaN</td>\n",
              "      <td>NaN</td>\n",
              "      <td>NaN</td>\n",
              "      <td>NaN</td>\n",
              "      <td>NaN</td>\n",
              "      <td>NaN</td>\n",
              "      <td>NaN</td>\n",
              "      <td>NaN</td>\n",
              "      <td>21:35.6</td>\n",
              "      <td>19:33.4</td>\n",
              "      <td>12:16.6</td>\n",
              "      <td>NaN</td>\n",
              "      <td>NaN</td>\n",
              "      <td>NaN</td>\n",
              "      <td>NaN</td>\n",
              "      <td>NaN</td>\n",
              "      <td>0</td>\n",
              "      <td>32</td>\n",
              "      <td>653455</td>\n",
              "      <td>F</td>\n",
              "      <td>0</td>\n",
              "      <td>NaN</td>\n",
              "      <td>1073</td>\n",
              "      <td>0x000000000059842B</td>\n",
              "      <td>NaN</td>\n",
              "    </tr>\n",
              "    <tr>\n",
              "      <th>22</th>\n",
              "      <td>25803</td>\n",
              "      <td>524162</td>\n",
              "      <td>34</td>\n",
              "      <td>34</td>\n",
              "      <td>ITE.102.00.00653456</td>\n",
              "      <td>1073</td>\n",
              "      <td>NaN</td>\n",
              "      <td>26:04.0</td>\n",
              "      <td>32</td>\n",
              "      <td>1</td>\n",
              "      <td>00:00.0</td>\n",
              "      <td>67177474</td>\n",
              "      <td>NaN</td>\n",
              "      <td>NaN</td>\n",
              "      <td>NaN</td>\n",
              "      <td>1</td>\n",
              "      <td>NaN</td>\n",
              "      <td>NaN</td>\n",
              "      <td>NaN</td>\n",
              "      <td>1</td>\n",
              "      <td>NaN</td>\n",
              "      <td>F</td>\n",
              "      <td>NaN</td>\n",
              "      <td>NaN</td>\n",
              "      <td>NaN</td>\n",
              "      <td>NaN</td>\n",
              "      <td>NaN</td>\n",
              "      <td>NaN</td>\n",
              "      <td>NaN</td>\n",
              "      <td>NaN</td>\n",
              "      <td>21:35.6</td>\n",
              "      <td>26:04.9</td>\n",
              "      <td>38:55.6</td>\n",
              "      <td>NaN</td>\n",
              "      <td>NaN</td>\n",
              "      <td>NaN</td>\n",
              "      <td>NaN</td>\n",
              "      <td>NaN</td>\n",
              "      <td>0</td>\n",
              "      <td>32</td>\n",
              "      <td>653456</td>\n",
              "      <td>F</td>\n",
              "      <td>0</td>\n",
              "      <td>NaN</td>\n",
              "      <td>1073</td>\n",
              "      <td>0x0000000000598A66</td>\n",
              "      <td>NaN</td>\n",
              "    </tr>\n",
              "  </tbody>\n",
              "</table>\n",
              "</div>"
            ],
            "text/plain": [
              "    25780  524139  34  34.1  ... NULL.21  1073.1  0x0000000000598764 NULL.22\n",
              "0   25781  524140  34    34  ...     NaN    1073  0x0000000000598968     NaN\n",
              "1   25782  524141  34    34  ...     NaN    1073  0x0000000000598E4F     NaN\n",
              "2   25783  524142  34    34  ...     NaN    1073  0x00000000005988E8     NaN\n",
              "3   25784  524143  34    34  ...     NaN    1073  0x0000000000598503     NaN\n",
              "4   25785  524144  34    34  ...     NaN    1073  0x00000000005983FF     NaN\n",
              "5   25786  524145  34    34  ...     NaN    1073  0x00000000005986E4     NaN\n",
              "6   25787  524146  34    34  ...     NaN    1073  0x0000000000598C18     NaN\n",
              "7   25788  524147  34    34  ...     NaN    1073  0x00000000005987AC     NaN\n",
              "8   25789  524148  34    34  ...     NaN    1073  0x0000000000599694     NaN\n",
              "9   25790  524149  34    34  ...     NaN    1073  0x0000000000598CC9     NaN\n",
              "10  25791  524150  34    34  ...     NaN    1073  0x0000000000598705     NaN\n",
              "11  25792  524151  34    34  ...     NaN    1073  0x0000000000598D9B     NaN\n",
              "12  25793  524152  34    34  ...     NaN    1073  0x0000000000598B58     NaN\n",
              "13  25794  524153  34    34  ...     NaN    1073  0x0000000000598A15     NaN\n",
              "14  25795  524154  34    34  ...     NaN    1073  0x0000000000598718     NaN\n",
              "15  25796  524155  34    34  ...     NaN    1073  0x0000000000598824     NaN\n",
              "16  25797  524156  34    34  ...     NaN    1073  0x0000000000598F1C     NaN\n",
              "17  25798  524157  34    34  ...     NaN    1073  0x00000000005987E0     NaN\n",
              "18  25799  524158  34    34  ...     NaN    1073  0x0000000000598B92     NaN\n",
              "19  25800  524159  34    34  ...     NaN    1073  0x00000000005987AD     NaN\n",
              "20  25801  524160  34    34  ...     NaN    1073  0x0000000000598D9D     NaN\n",
              "21  25802  524161  34    34  ...     NaN    1073  0x000000000059842B     NaN\n",
              "22  25803  524162  34    34  ...     NaN    1073  0x0000000000598A66     NaN\n",
              "\n",
              "[23 rows x 47 columns]"
            ]
          },
          "metadata": {
            "tags": []
          },
          "execution_count": 62
        }
      ]
    },
    {
      "cell_type": "code",
      "metadata": {
        "colab": {
          "base_uri": "https://localhost:8080/",
          "height": 178
        },
        "id": "LbRBw4_ziUrG",
        "outputId": "2b2c9a7f-8915-4ea0-d993-5dd1621b327f"
      },
      "source": [
        "f=open('C:\\\\abbas\\\\abc.csv','r+')\r\n",
        "print(f.read())"
      ],
      "execution_count": 64,
      "outputs": [
        {
          "output_type": "error",
          "ename": "FileNotFoundError",
          "evalue": "ignored",
          "traceback": [
            "\u001b[0;31m---------------------------------------------------------------------------\u001b[0m",
            "\u001b[0;31mFileNotFoundError\u001b[0m                         Traceback (most recent call last)",
            "\u001b[0;32m<ipython-input-64-cbe01fb57b7c>\u001b[0m in \u001b[0;36m<module>\u001b[0;34m()\u001b[0m\n\u001b[0;32m----> 1\u001b[0;31m \u001b[0mf\u001b[0m\u001b[0;34m=\u001b[0m\u001b[0mopen\u001b[0m\u001b[0;34m(\u001b[0m\u001b[0;34m'C:\\\\abbas\\\\abc.csv'\u001b[0m\u001b[0;34m,\u001b[0m\u001b[0;34m'r+'\u001b[0m\u001b[0;34m)\u001b[0m\u001b[0;34m\u001b[0m\u001b[0;34m\u001b[0m\u001b[0m\n\u001b[0m\u001b[1;32m      2\u001b[0m \u001b[0mprint\u001b[0m\u001b[0;34m(\u001b[0m\u001b[0mf\u001b[0m\u001b[0;34m.\u001b[0m\u001b[0mread\u001b[0m\u001b[0;34m(\u001b[0m\u001b[0;34m)\u001b[0m\u001b[0;34m)\u001b[0m\u001b[0;34m\u001b[0m\u001b[0;34m\u001b[0m\u001b[0m\n",
            "\u001b[0;31mFileNotFoundError\u001b[0m: [Errno 2] No such file or directory: 'C:\\\\abbas\\\\abc.csv'"
          ]
        }
      ]
    },
    {
      "cell_type": "code",
      "metadata": {
        "colab": {
          "base_uri": "https://localhost:8080/"
        },
        "id": "HdwRg-jN3g8b",
        "outputId": "7a0d54f1-73d7-4b87-9b6e-c2bc81525cbd"
      },
      "source": [
        "import pandas as pd\r\n",
        "import requests\r\n",
        "\r\n",
        "ex=pd.read_csv(\"https://raw.githubusercontent.com/kashifabbas08/testrepository.123/main/Test%20Meters.csv\")\r\n",
        "print(ex)"
      ],
      "execution_count": 1,
      "outputs": [
        {
          "output_type": "stream",
          "text": [
            "    25780  524139  34  34.1  ... NULL.21  1073.1  0x0000000000598764 NULL.22\n",
            "0   25781  524140  34    34  ...     NaN    1073  0x0000000000598968     NaN\n",
            "1   25782  524141  34    34  ...     NaN    1073  0x0000000000598E4F     NaN\n",
            "2   25783  524142  34    34  ...     NaN    1073  0x00000000005988E8     NaN\n",
            "3   25784  524143  34    34  ...     NaN    1073  0x0000000000598503     NaN\n",
            "4   25785  524144  34    34  ...     NaN    1073  0x00000000005983FF     NaN\n",
            "5   25786  524145  34    34  ...     NaN    1073  0x00000000005986E4     NaN\n",
            "6   25787  524146  34    34  ...     NaN    1073  0x0000000000598C18     NaN\n",
            "7   25788  524147  34    34  ...     NaN    1073  0x00000000005987AC     NaN\n",
            "8   25789  524148  34    34  ...     NaN    1073  0x0000000000599694     NaN\n",
            "9   25790  524149  34    34  ...     NaN    1073  0x0000000000598CC9     NaN\n",
            "10  25791  524150  34    34  ...     NaN    1073  0x0000000000598705     NaN\n",
            "11  25792  524151  34    34  ...     NaN    1073  0x0000000000598D9B     NaN\n",
            "12  25793  524152  34    34  ...     NaN    1073  0x0000000000598B58     NaN\n",
            "13  25794  524153  34    34  ...     NaN    1073  0x0000000000598A15     NaN\n",
            "14  25795  524154  34    34  ...     NaN    1073  0x0000000000598718     NaN\n",
            "15  25796  524155  34    34  ...     NaN    1073  0x0000000000598824     NaN\n",
            "16  25797  524156  34    34  ...     NaN    1073  0x0000000000598F1C     NaN\n",
            "17  25798  524157  34    34  ...     NaN    1073  0x00000000005987E0     NaN\n",
            "18  25799  524158  34    34  ...     NaN    1073  0x0000000000598B92     NaN\n",
            "19  25800  524159  34    34  ...     NaN    1073  0x00000000005987AD     NaN\n",
            "20  25801  524160  34    34  ...     NaN    1073  0x0000000000598D9D     NaN\n",
            "21  25802  524161  34    34  ...     NaN    1073  0x000000000059842B     NaN\n",
            "22  25803  524162  34    34  ...     NaN    1073  0x0000000000598A66     NaN\n",
            "\n",
            "[23 rows x 47 columns]\n"
          ],
          "name": "stdout"
        }
      ]
    },
    {
      "cell_type": "code",
      "metadata": {
        "id": "NLSHB6SP7tRQ"
      },
      "source": [
        "class mark1:\r\n",
        "  def passfail():\r\n",
        "    print(\"Passed\")"
      ],
      "execution_count": null,
      "outputs": []
    },
    {
      "cell_type": "code",
      "metadata": {
        "colab": {
          "base_uri": "https://localhost:8080/"
        },
        "id": "jpeG6wdM7-fT",
        "outputId": "bfbd9c53-4746-44e9-e8b1-713ced13f82b"
      },
      "source": [
        "import pandas as pd\r\n",
        "#thread\r\n",
        "from collections import Counter\r\n",
        "a=\"hello world, i am alive\"\r\n",
        "myCounter=Counter(a)\r\n",
        "myCounter\r\n",
        "#myCounter.keys()"
      ],
      "execution_count": 8,
      "outputs": [
        {
          "output_type": "execute_result",
          "data": {
            "text/plain": [
              "Counter({' ': 4,\n",
              "         ',': 1,\n",
              "         'a': 2,\n",
              "         'd': 1,\n",
              "         'e': 2,\n",
              "         'h': 1,\n",
              "         'i': 2,\n",
              "         'l': 4,\n",
              "         'm': 1,\n",
              "         'o': 2,\n",
              "         'r': 1,\n",
              "         'v': 1,\n",
              "         'w': 1})"
            ]
          },
          "metadata": {
            "tags": []
          },
          "execution_count": 8
        }
      ]
    },
    {
      "cell_type": "code",
      "metadata": {
        "colab": {
          "base_uri": "https://localhost:8080/"
        },
        "id": "NRlSWyBw-h4v",
        "outputId": "f9f81565-ba26-4e7c-d24b-8c42a90390b2"
      },
      "source": [
        "myCounter.most_common()"
      ],
      "execution_count": 9,
      "outputs": [
        {
          "output_type": "execute_result",
          "data": {
            "text/plain": [
              "[('l', 4),\n",
              " (' ', 4),\n",
              " ('e', 2),\n",
              " ('o', 2),\n",
              " ('i', 2),\n",
              " ('a', 2),\n",
              " ('h', 1),\n",
              " ('w', 1),\n",
              " ('r', 1),\n",
              " ('d', 1),\n",
              " (',', 1),\n",
              " ('m', 1),\n",
              " ('v', 1)]"
            ]
          },
          "metadata": {
            "tags": []
          },
          "execution_count": 9
        }
      ]
    },
    {
      "cell_type": "code",
      "metadata": {
        "colab": {
          "base_uri": "https://localhost:8080/"
        },
        "id": "Z6byUmHL987o",
        "outputId": "4581aeca-1c59-4e2b-ab4e-9377ed583ed7"
      },
      "source": [
        "myCounter.values()"
      ],
      "execution_count": 7,
      "outputs": [
        {
          "output_type": "execute_result",
          "data": {
            "text/plain": [
              "dict_values([1, 2, 4, 2, 4, 1, 1, 1, 1, 2, 2, 1, 1])"
            ]
          },
          "metadata": {
            "tags": []
          },
          "execution_count": 7
        }
      ]
    },
    {
      "cell_type": "code",
      "metadata": {
        "colab": {
          "base_uri": "https://localhost:8080/"
        },
        "id": "LyWwLHu9ACBL",
        "outputId": "e3605368-9ac5-4d5f-e1da-0d6ed571e6e8"
      },
      "source": [
        "#order dict -  put in the format you want \r\n",
        "from collections import OrderedDict\r\n",
        "mydict=OrderedDict()\r\n",
        "mydict[\"a\"]=10\r\n",
        "mydict[\"b\"]=20\r\n",
        "mydict[\"c\"]=30\r\n",
        "mydict"
      ],
      "execution_count": 11,
      "outputs": [
        {
          "output_type": "execute_result",
          "data": {
            "text/plain": [
              "OrderedDict([('a', 10), ('b', 20), ('c', 30)])"
            ]
          },
          "metadata": {
            "tags": []
          },
          "execution_count": 11
        }
      ]
    },
    {
      "cell_type": "code",
      "metadata": {
        "colab": {
          "base_uri": "https://localhost:8080/"
        },
        "id": "cuyFUJztAnd6",
        "outputId": "d14c320e-e611-4f85-e8a5-233a75db0334"
      },
      "source": [
        "#defaultdict- \r\n",
        "from collections import defaultdict\r\n",
        "mydict=defaultdict(float)\r\n",
        "mydict[\"a\"]=10\r\n",
        "mydict[\"b\"]=20\r\n",
        "mydict[\"c\"]=30\r\n",
        "mydict[\"x\"]\r\n",
        "mydict\r\n"
      ],
      "execution_count": 12,
      "outputs": [
        {
          "output_type": "execute_result",
          "data": {
            "text/plain": [
              "defaultdict(float, {'a': 10, 'b': 20, 'c': 30, 'x': 0.0})"
            ]
          },
          "metadata": {
            "tags": []
          },
          "execution_count": 12
        }
      ]
    },
    {
      "cell_type": "code",
      "metadata": {
        "colab": {
          "base_uri": "https://localhost:8080/"
        },
        "id": "qsS3saRmBBRc",
        "outputId": "49a2cab1-ac03-42bc-de88-5a69d2487a07"
      },
      "source": [
        "from collections import defaultdict\r\n",
        "def default_func():\r\n",
        " return(\"not found\")\r\n",
        "\r\n",
        "mydict=defaultdict(default_func)\r\n",
        "mydict[\"a\"]=10\r\n",
        "mydict[\"b\"]=20\r\n",
        "mydict[\"c\"]=30\r\n",
        "mydict[\"x\"]\r\n",
        "mydict"
      ],
      "execution_count": 17,
      "outputs": [
        {
          "output_type": "execute_result",
          "data": {
            "text/plain": [
              "defaultdict(<function __main__.default_func>,\n",
              "            {'a': 10, 'b': 20, 'c': 30, 'x': 'not found'})"
            ]
          },
          "metadata": {
            "tags": []
          },
          "execution_count": 17
        }
      ]
    },
    {
      "cell_type": "code",
      "metadata": {
        "colab": {
          "base_uri": "https://localhost:8080/"
        },
        "id": "aTA8R3dOBoTy",
        "outputId": "e68162b6-78dd-45e5-b26d-4c8186f0be28"
      },
      "source": [
        "from collections import defaultdict\r\n",
        "mydict=defaultdict(lambda: \"Not found\")\r\n",
        "mydict[\"a\"]=10\r\n",
        "mydict[\"b\"]=20\r\n",
        "mydict[\"c\"]=30\r\n",
        "mydict[\"x\"]\r\n",
        "mydict"
      ],
      "execution_count": 19,
      "outputs": [
        {
          "output_type": "execute_result",
          "data": {
            "text/plain": [
              "defaultdict(<function __main__.<lambda>>,\n",
              "            {'a': 10, 'b': 20, 'c': 30, 'x': 'Not found'})"
            ]
          },
          "metadata": {
            "tags": []
          },
          "execution_count": 19
        }
      ]
    },
    {
      "cell_type": "code",
      "metadata": {
        "id": "hb2qi0OxCCIr"
      },
      "source": [
        "#deque - collection"
      ],
      "execution_count": null,
      "outputs": []
    },
    {
      "cell_type": "code",
      "metadata": {
        "colab": {
          "base_uri": "https://localhost:8080/"
        },
        "id": "BpemyWE0igrJ",
        "outputId": "9562bb71-ad7f-40dc-a0ee-7f7d1e8fee00"
      },
      "source": [
        "#class inheritance return callbyValue callByReference oOPS concept\r\n",
        "def fruit():\r\n",
        "  return \"Apple\"\r\n",
        "\r\n",
        "print(fruit())\r\n",
        "\r\n",
        "##Python has multiple return type\r\n",
        "def fruits():\r\n",
        "  return \"Apple\",\"Banana\",100,False\r\n",
        "\r\n",
        "print(fruits())"
      ],
      "execution_count": 4,
      "outputs": [
        {
          "output_type": "stream",
          "text": [
            "Apple\n",
            "('Apple', 'Banana', 100, False)\n"
          ],
          "name": "stdout"
        }
      ]
    },
    {
      "cell_type": "code",
      "metadata": {
        "colab": {
          "base_uri": "https://localhost:8080/"
        },
        "id": "gMyXbXefnnjG",
        "outputId": "da43b4db-f0fd-4d77-b60f-dc35832d06ee"
      },
      "source": [
        "#yield\r\n",
        "def fruits():\r\n",
        "  yield \"Apple\",\"Banana\",100,False\r\n",
        "\r\n",
        "print(fruits())\r\n",
        "print(next(fruits()))"
      ],
      "execution_count": 6,
      "outputs": [
        {
          "output_type": "stream",
          "text": [
            "<generator object fruits at 0x7f1fec154db0>\n",
            "('Apple', 'Banana', 100, False)\n"
          ],
          "name": "stdout"
        }
      ]
    },
    {
      "cell_type": "code",
      "metadata": {
        "colab": {
          "base_uri": "https://localhost:8080/"
        },
        "id": "vZbA8GNVqiDn",
        "outputId": "71193c1f-b416-4533-f552-aedb5920171d"
      },
      "source": [
        "#call by object\r\n",
        "def add(a,b):\r\n",
        "  return(a+b)\r\n",
        "c=add(10,20)\r\n",
        "print(c)"
      ],
      "execution_count": 7,
      "outputs": [
        {
          "output_type": "stream",
          "text": [
            "30\n"
          ],
          "name": "stdout"
        }
      ]
    },
    {
      "cell_type": "code",
      "metadata": {
        "colab": {
          "base_uri": "https://localhost:8080/",
          "height": 35
        },
        "id": "RLB8LJStzWwc",
        "outputId": "4d4170d6-e240-47c1-ec6f-e13810b50a97"
      },
      "source": [
        "#class\r\n",
        "class Student:\r\n",
        "  _SchoolName='CVB School' #\r\n",
        "\r\n",
        "class NewStudent(Student):\r\n",
        "  _SchoolName=\"CMS\"\r\n",
        "  PublicSchool=_SchoolName\r\n",
        "\r\n",
        "S=NewStudent()\r\n",
        "S.PublicSchool"
      ],
      "execution_count": 5,
      "outputs": [
        {
          "output_type": "execute_result",
          "data": {
            "application/vnd.google.colaboratory.intrinsic+json": {
              "type": "string"
            },
            "text/plain": [
              "'CMS'"
            ]
          },
          "metadata": {
            "tags": []
          },
          "execution_count": 5
        }
      ]
    },
    {
      "cell_type": "code",
      "metadata": {
        "colab": {
          "base_uri": "https://localhost:8080/"
        },
        "id": "7oVmojk53BVB",
        "outputId": "5af71d2e-2cb0-402a-cbf9-2c3c03fab53a"
      },
      "source": [
        "class Tweet:\r\n",
        "  def __init__(self, message, time):\r\n",
        "    self.message= message\r\n",
        "    self.time= time\r\n",
        "\r\n",
        "  def __lt__(self, other):\r\n",
        "    return self.time < other.time\r\n",
        "\r\n",
        "  def __gt__(self,other):\r\n",
        "    return self.time > other.time\r\n",
        "\r\n",
        "oldertweet = Tweet(\"hey\",1000)\r\n",
        "newtweet = Tweet(\"hi\",100)\r\n",
        "print(newtweet < oldertweet)"
      ],
      "execution_count": 11,
      "outputs": [
        {
          "output_type": "stream",
          "text": [
            "True\n"
          ],
          "name": "stdout"
        }
      ]
    },
    {
      "cell_type": "code",
      "metadata": {
        "colab": {
          "base_uri": "https://localhost:8080/"
        },
        "id": "TquDz5Du5WKK",
        "outputId": "50450d7c-0122-4f15-ecaf-b4a9ec6d80f1"
      },
      "source": [
        "class Tweet:\r\n",
        "    def __init__(self, message, word):\r\n",
        "        self.message = message\r\n",
        "        self.word = word\r\n",
        "       \r\n",
        "    def __contains__(self, message):\r\n",
        "        return word in self.message\r\n",
        "        #Implement the method\r\n",
        "\r\n",
        "tweet = \"I just flushed my toilet\"\r\n",
        "word = \"abc\"\r\n",
        "if word in tweet:\r\n",
        "  print(\"true\")\r\n",
        "else:\r\n",
        "  print(\"false\")\r\n",
        "#now write code to check if the word \"flushed\" is in the tweet\r\n",
        "#and print something nice if that's the case"
      ],
      "execution_count": 18,
      "outputs": [
        {
          "output_type": "stream",
          "text": [
            "false\n"
          ],
          "name": "stdout"
        }
      ]
    }
  ]
}