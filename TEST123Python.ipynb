{
  "nbformat": 4,
  "nbformat_minor": 0,
  "metadata": {
    "colab": {
      "name": "TEST123Python.ipynb",
      "provenance": [],
      "collapsed_sections": [],
      "authorship_tag": "ABX9TyNJ4igpp3/QijutfPMHaJXo",
      "include_colab_link": true
    },
    "kernelspec": {
      "name": "python3",
      "display_name": "Python 3"
    }
  },
  "cells": [
    {
      "cell_type": "markdown",
      "metadata": {
        "id": "view-in-github",
        "colab_type": "text"
      },
      "source": [
        "<a href=\"https://colab.research.google.com/github/kashifabbas08/testrepository.123/blob/main/TEST123Python.ipynb\" target=\"_parent\"><img src=\"https://colab.research.google.com/assets/colab-badge.svg\" alt=\"Open In Colab\"/></a>"
      ]
    },
    {
      "cell_type": "code",
      "metadata": {
        "id": "V109E3PHun1G"
      },
      "source": [
        "\"Hello World!\"\r\n",
        "\"Welcome to Python World\""
      ],
      "execution_count": null,
      "outputs": []
    },
    {
      "cell_type": "code",
      "metadata": {
        "colab": {
          "base_uri": "https://localhost:8080/"
        },
        "id": "FbpLKtRhpYQp",
        "outputId": "dce68da8-c0a5-4972-fc0c-e6eda22fc57a"
      },
      "source": [
        "print(\"Hello World!\")\r\n",
        "print('Welcome to Python World')"
      ],
      "execution_count": null,
      "outputs": [
        {
          "output_type": "stream",
          "text": [
            "Hello World!\n",
            "Welcome to Python World\n"
          ],
          "name": "stdout"
        }
      ]
    },
    {
      "cell_type": "code",
      "metadata": {
        "id": "uO5Kh5j2vFW5"
      },
      "source": [
        "name = \"Eric\"\r\n",
        "age = 14\r\n"
      ],
      "execution_count": null,
      "outputs": []
    },
    {
      "cell_type": "code",
      "metadata": {
        "colab": {
          "base_uri": "https://localhost:8080/"
        },
        "id": "AieZf-NRvay9",
        "outputId": "79553ab9-1b04-4fd8-9e45-9f57481713d5"
      },
      "source": [
        "name = \"Eric\"\r\n",
        "age = 74\r\n",
        "print(\"Hello %s. You are %s years old\" % (name,age))"
      ],
      "execution_count": null,
      "outputs": [
        {
          "output_type": "stream",
          "text": [
            "Hello Eric. You are 74 years old\n"
          ],
          "name": "stdout"
        }
      ]
    },
    {
      "cell_type": "code",
      "metadata": {
        "colab": {
          "base_uri": "https://localhost:8080/"
        },
        "id": "jkig9MxBwPmb",
        "outputId": "c643e14d-fff3-4711-c8e6-37220b8f0b29"
      },
      "source": [
        "#name = \"Eric\"\r\n",
        "#age = 74\r\n",
        "print(\"Hello {}. You are {} years old\".format(name,age))\r\n",
        "print(\"Hello {}, you are {} years old\".format(\"Python\", age))"
      ],
      "execution_count": null,
      "outputs": [
        {
          "output_type": "stream",
          "text": [
            "Hello Eric. You are 14 years old\n",
            "Hello Python, you are 14 years old\n"
          ],
          "name": "stdout"
        }
      ]
    },
    {
      "cell_type": "code",
      "metadata": {
        "id": "pLRkw_S_xX0C"
      },
      "source": [
        "person = {'name':'Eric','age':74}"
      ],
      "execution_count": null,
      "outputs": []
    },
    {
      "cell_type": "code",
      "metadata": {
        "colab": {
          "base_uri": "https://localhost:8080/"
        },
        "id": "tWHySPwIxmMM",
        "outputId": "9bfa41cf-65fe-4a90-c034-6ed559f2163e"
      },
      "source": [
        "\r\n",
        "print(\"Hello , {name}. You are {age} year old.\".format(name=person['name'], age=person['age']))"
      ],
      "execution_count": null,
      "outputs": [
        {
          "output_type": "stream",
          "text": [
            "Hello , Eric. You are 74.\n",
            "Hello , Eric. You are 74 year old.\n"
          ],
          "name": "stdout"
        }
      ]
    },
    {
      "cell_type": "code",
      "metadata": {
        "id": "UBp7D5n4zOVJ"
      },
      "source": [
        "print(\"Hello , {name}. You are {age}.\".format(**person))"
      ],
      "execution_count": null,
      "outputs": []
    },
    {
      "cell_type": "code",
      "metadata": {
        "id": "c9v5fO_Dy1B_"
      },
      "source": [
        "first_name = \"Eric\"\r\n",
        "last_name = \"Idle\"\r\n",
        "age = 74\r\n",
        "profession = \"Comaddian\""
      ],
      "execution_count": null,
      "outputs": []
    },
    {
      "cell_type": "code",
      "metadata": {
        "colab": {
          "base_uri": "https://localhost:8080/",
          "height": 35
        },
        "id": "Z0vnIBXdzcg_",
        "outputId": "1a68c561-d8fa-455a-ac8e-570a79aca5d3"
      },
      "source": [
        "f\"Hello , {first_name}, you are {age}\""
      ],
      "execution_count": null,
      "outputs": [
        {
          "output_type": "execute_result",
          "data": {
            "application/vnd.google.colaboratory.intrinsic+json": {
              "type": "string"
            },
            "text/plain": [
              "'Hello , Eric, you are 74'"
            ]
          },
          "metadata": {
            "tags": []
          },
          "execution_count": 23
        }
      ]
    },
    {
      "cell_type": "code",
      "metadata": {
        "colab": {
          "base_uri": "https://localhost:8080/",
          "height": 35
        },
        "id": "U38pZyJO0C67",
        "outputId": "39c37f3d-6579-4629-b15b-6ccead4fc954"
      },
      "source": [
        "def to_lowercase(input):\r\n",
        "  return input.lower()\r\n",
        "\r\n",
        "name= \"Eric Idle\"\r\n",
        "f\"{to_lowercase(name)} is funny\""
      ],
      "execution_count": null,
      "outputs": [
        {
          "output_type": "execute_result",
          "data": {
            "application/vnd.google.colaboratory.intrinsic+json": {
              "type": "string"
            },
            "text/plain": [
              "'eric idle is funny'"
            ]
          },
          "metadata": {
            "tags": []
          },
          "execution_count": 24
        }
      ]
    },
    {
      "cell_type": "code",
      "metadata": {
        "colab": {
          "base_uri": "https://localhost:8080/",
          "height": 35
        },
        "id": "JHSCAH3b0bH-",
        "outputId": "ee732b6d-78a1-4505-9abd-e0c67855f1d0"
      },
      "source": [
        "def to_lowercase(input):\r\n",
        "  return input.upper()\r\n",
        "\r\n",
        "name= \"Eric Idle\"\r\n",
        "F\"{to_lowercase(name)} is funny\""
      ],
      "execution_count": null,
      "outputs": [
        {
          "output_type": "execute_result",
          "data": {
            "application/vnd.google.colaboratory.intrinsic+json": {
              "type": "string"
            },
            "text/plain": [
              "'ERIC IDLE is funny'"
            ]
          },
          "metadata": {
            "tags": []
          },
          "execution_count": 26
        }
      ]
    },
    {
      "cell_type": "code",
      "metadata": {
        "colab": {
          "base_uri": "https://localhost:8080/",
          "height": 35
        },
        "id": "qfmeRCt-07hW",
        "outputId": "9a9150c7-0702-411f-8d93-b8f6a9476637"
      },
      "source": [
        "\"abytabi\".upper()"
      ],
      "execution_count": null,
      "outputs": [
        {
          "output_type": "execute_result",
          "data": {
            "application/vnd.google.colaboratory.intrinsic+json": {
              "type": "string"
            },
            "text/plain": [
              "'ABYTABI'"
            ]
          },
          "metadata": {
            "tags": []
          },
          "execution_count": 29
        }
      ]
    },
    {
      "cell_type": "code",
      "metadata": {
        "colab": {
          "base_uri": "https://localhost:8080/",
          "height": 35
        },
        "id": "H8tq2P4H0lVP",
        "outputId": "7ae0df29-3e29-4f3c-9bae-d5fdf591f1d9"
      },
      "source": [
        "f\"{2*82}\""
      ],
      "execution_count": null,
      "outputs": [
        {
          "output_type": "execute_result",
          "data": {
            "application/vnd.google.colaboratory.intrinsic+json": {
              "type": "string"
            },
            "text/plain": [
              "'164'"
            ]
          },
          "metadata": {
            "tags": []
          },
          "execution_count": 27
        }
      ]
    },
    {
      "cell_type": "code",
      "metadata": {
        "colab": {
          "base_uri": "https://localhost:8080/"
        },
        "id": "JOXXR38n-9xB",
        "outputId": "13d8ec80-8c25-440c-c44a-1417299c14af"
      },
      "source": [
        "for i in range(10):\r\n",
        "  print(i)"
      ],
      "execution_count": null,
      "outputs": [
        {
          "output_type": "stream",
          "text": [
            "0\n",
            "1\n",
            "2\n",
            "3\n",
            "4\n",
            "5\n",
            "6\n",
            "7\n",
            "8\n",
            "9\n"
          ],
          "name": "stdout"
        }
      ]
    },
    {
      "cell_type": "code",
      "metadata": {
        "colab": {
          "base_uri": "https://localhost:8080/"
        },
        "id": "ARLUQNoP_VNX",
        "outputId": "ee9336a8-5b93-4fdb-ac81-3d15abee9b45"
      },
      "source": [
        "#for() loo\r\n",
        "date = [1989,1993,2021]\r\n",
        "N = len(date)\r\n",
        "\r\n",
        "for i in range(N):\r\n",
        "  print(date[i])"
      ],
      "execution_count": null,
      "outputs": [
        {
          "output_type": "stream",
          "text": [
            "1989\n",
            "1993\n",
            "2021\n"
          ],
          "name": "stdout"
        }
      ]
    },
    {
      "cell_type": "code",
      "metadata": {
        "colab": {
          "base_uri": "https://localhost:8080/"
        },
        "id": "dVj1B1R4ANXD",
        "outputId": "2c272fc0-71e2-42ee-a046-b1cb72d9c9e1"
      },
      "source": [
        "squares = ['red','yesllow','green','black','blue']\r\n",
        "\r\n",
        "for i, square in enumerate(squares):\r\n",
        "  print(i, square)"
      ],
      "execution_count": null,
      "outputs": [
        {
          "output_type": "stream",
          "text": [
            "0 red\n",
            "1 yesllow\n",
            "2 green\n",
            "3 black\n",
            "4 blue\n"
          ],
          "name": "stdout"
        }
      ]
    },
    {
      "cell_type": "code",
      "metadata": {
        "id": "xz3YWn2mA03P"
      },
      "source": [
        "squares = ['red','yesllow','green','black','blue']\r\n"
      ],
      "execution_count": null,
      "outputs": []
    },
    {
      "cell_type": "code",
      "metadata": {
        "colab": {
          "base_uri": "https://localhost:8080/"
        },
        "id": "wPu9KRjsDF0O",
        "outputId": "fa929103-d319-455e-cb4b-4488b5bd7858"
      },
      "source": [
        "i= -5\r\n",
        "while (i < 6):\r\n",
        "  print(i)\r\n",
        "  i=i+1\r\n"
      ],
      "execution_count": null,
      "outputs": [
        {
          "output_type": "stream",
          "text": [
            "-5\n",
            "-4\n",
            "-3\n",
            "-2\n",
            "-1\n",
            "0\n",
            "1\n",
            "2\n",
            "3\n",
            "4\n",
            "5\n"
          ],
          "name": "stdout"
        }
      ]
    },
    {
      "cell_type": "code",
      "metadata": {
        "colab": {
          "base_uri": "https://localhost:8080/"
        },
        "id": "4LJ7oY6gFXl9",
        "outputId": "9ebc7067-3fdf-4163-eef4-e10e1d954058"
      },
      "source": [
        "for i in range (-5, 6):\r\n",
        "  print(i)"
      ],
      "execution_count": 46,
      "outputs": [
        {
          "output_type": "stream",
          "text": [
            "-5\n",
            "-4\n",
            "-3\n",
            "-2\n",
            "-1\n",
            "0\n",
            "1\n",
            "2\n",
            "3\n",
            "4\n",
            "5\n"
          ],
          "name": "stdout"
        }
      ]
    }
  ]
}