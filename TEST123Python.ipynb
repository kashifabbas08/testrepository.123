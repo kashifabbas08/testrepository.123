{
  "nbformat": 4,
  "nbformat_minor": 0,
  "metadata": {
    "colab": {
      "name": "TEST123Python.ipynb",
      "provenance": [],
      "collapsed_sections": [],
      "authorship_tag": "ABX9TyNMF2m0/Ko0GUEusDbPqpom",
      "include_colab_link": true
    },
    "kernelspec": {
      "name": "python3",
      "display_name": "Python 3"
    }
  },
  "cells": [
    {
      "cell_type": "markdown",
      "metadata": {
        "id": "view-in-github",
        "colab_type": "text"
      },
      "source": [
        "<a href=\"https://colab.research.google.com/github/kashifabbas08/testrepository.123/blob/main/TEST123Python.ipynb\" target=\"_parent\"><img src=\"https://colab.research.google.com/assets/colab-badge.svg\" alt=\"Open In Colab\"/></a>"
      ]
    },
    {
      "cell_type": "code",
      "metadata": {
        "id": "V109E3PHun1G"
      },
      "source": [
        "\"Hello World!\"\r\n",
        "\"Welcome to Python World\""
      ],
      "execution_count": null,
      "outputs": []
    },
    {
      "cell_type": "code",
      "metadata": {
        "colab": {
          "base_uri": "https://localhost:8080/"
        },
        "id": "FbpLKtRhpYQp",
        "outputId": "dce68da8-c0a5-4972-fc0c-e6eda22fc57a"
      },
      "source": [
        "print(\"Hello World!\")\r\n",
        "print('Welcome to Python World')"
      ],
      "execution_count": null,
      "outputs": [
        {
          "output_type": "stream",
          "text": [
            "Hello World!\n",
            "Welcome to Python World\n"
          ],
          "name": "stdout"
        }
      ]
    },
    {
      "cell_type": "code",
      "metadata": {
        "id": "uO5Kh5j2vFW5"
      },
      "source": [
        "name = \"Eric\"\r\n",
        "age = 14\r\n"
      ],
      "execution_count": null,
      "outputs": []
    },
    {
      "cell_type": "code",
      "metadata": {
        "colab": {
          "base_uri": "https://localhost:8080/"
        },
        "id": "AieZf-NRvay9",
        "outputId": "79553ab9-1b04-4fd8-9e45-9f57481713d5"
      },
      "source": [
        "name = \"Eric\"\r\n",
        "age = 74\r\n",
        "print(\"Hello %s. You are %s years old\" % (name,age))"
      ],
      "execution_count": null,
      "outputs": [
        {
          "output_type": "stream",
          "text": [
            "Hello Eric. You are 74 years old\n"
          ],
          "name": "stdout"
        }
      ]
    },
    {
      "cell_type": "code",
      "metadata": {
        "colab": {
          "base_uri": "https://localhost:8080/"
        },
        "id": "jkig9MxBwPmb",
        "outputId": "c643e14d-fff3-4711-c8e6-37220b8f0b29"
      },
      "source": [
        "#name = \"Eric\"\r\n",
        "#age = 74\r\n",
        "print(\"Hello {}. You are {} years old\".format(name,age))\r\n",
        "print(\"Hello {}, you are {} years old\".format(\"Python\", age))"
      ],
      "execution_count": null,
      "outputs": [
        {
          "output_type": "stream",
          "text": [
            "Hello Eric. You are 14 years old\n",
            "Hello Python, you are 14 years old\n"
          ],
          "name": "stdout"
        }
      ]
    },
    {
      "cell_type": "code",
      "metadata": {
        "id": "pLRkw_S_xX0C"
      },
      "source": [
        "person = {'name':'Eric','age':74}"
      ],
      "execution_count": null,
      "outputs": []
    },
    {
      "cell_type": "code",
      "metadata": {
        "colab": {
          "base_uri": "https://localhost:8080/"
        },
        "id": "tWHySPwIxmMM",
        "outputId": "9bfa41cf-65fe-4a90-c034-6ed559f2163e"
      },
      "source": [
        "\r\n",
        "print(\"Hello , {name}. You are {age} year old.\".format(name=person['name'], age=person['age']))"
      ],
      "execution_count": null,
      "outputs": [
        {
          "output_type": "stream",
          "text": [
            "Hello , Eric. You are 74.\n",
            "Hello , Eric. You are 74 year old.\n"
          ],
          "name": "stdout"
        }
      ]
    },
    {
      "cell_type": "code",
      "metadata": {
        "id": "UBp7D5n4zOVJ"
      },
      "source": [
        "print(\"Hello , {name}. You are {age}.\".format(**person))"
      ],
      "execution_count": null,
      "outputs": []
    },
    {
      "cell_type": "code",
      "metadata": {
        "id": "c9v5fO_Dy1B_"
      },
      "source": [
        "first_name = \"Eric\"\r\n",
        "last_name = \"Idle\"\r\n",
        "age = 74\r\n",
        "profession = \"Comaddian\""
      ],
      "execution_count": null,
      "outputs": []
    },
    {
      "cell_type": "code",
      "metadata": {
        "colab": {
          "base_uri": "https://localhost:8080/",
          "height": 35
        },
        "id": "Z0vnIBXdzcg_",
        "outputId": "1a68c561-d8fa-455a-ac8e-570a79aca5d3"
      },
      "source": [
        "f\"Hello , {first_name}, you are {age}\""
      ],
      "execution_count": null,
      "outputs": [
        {
          "output_type": "execute_result",
          "data": {
            "application/vnd.google.colaboratory.intrinsic+json": {
              "type": "string"
            },
            "text/plain": [
              "'Hello , Eric, you are 74'"
            ]
          },
          "metadata": {
            "tags": []
          },
          "execution_count": 23
        }
      ]
    },
    {
      "cell_type": "code",
      "metadata": {
        "colab": {
          "base_uri": "https://localhost:8080/",
          "height": 35
        },
        "id": "U38pZyJO0C67",
        "outputId": "39c37f3d-6579-4629-b15b-6ccead4fc954"
      },
      "source": [
        "def to_lowercase(input):\r\n",
        "  return input.lower()\r\n",
        "\r\n",
        "name= \"Eric Idle\"\r\n",
        "f\"{to_lowercase(name)} is funny\""
      ],
      "execution_count": null,
      "outputs": [
        {
          "output_type": "execute_result",
          "data": {
            "application/vnd.google.colaboratory.intrinsic+json": {
              "type": "string"
            },
            "text/plain": [
              "'eric idle is funny'"
            ]
          },
          "metadata": {
            "tags": []
          },
          "execution_count": 24
        }
      ]
    },
    {
      "cell_type": "code",
      "metadata": {
        "colab": {
          "base_uri": "https://localhost:8080/",
          "height": 35
        },
        "id": "JHSCAH3b0bH-",
        "outputId": "ee732b6d-78a1-4505-9abd-e0c67855f1d0"
      },
      "source": [
        "def to_lowercase(input):\r\n",
        "  return input.upper()\r\n",
        "\r\n",
        "name= \"Eric Idle\"\r\n",
        "F\"{to_lowercase(name)} is funny\""
      ],
      "execution_count": null,
      "outputs": [
        {
          "output_type": "execute_result",
          "data": {
            "application/vnd.google.colaboratory.intrinsic+json": {
              "type": "string"
            },
            "text/plain": [
              "'ERIC IDLE is funny'"
            ]
          },
          "metadata": {
            "tags": []
          },
          "execution_count": 26
        }
      ]
    },
    {
      "cell_type": "code",
      "metadata": {
        "colab": {
          "base_uri": "https://localhost:8080/",
          "height": 35
        },
        "id": "qfmeRCt-07hW",
        "outputId": "9a9150c7-0702-411f-8d93-b8f6a9476637"
      },
      "source": [
        "\"abytabi\".upper()"
      ],
      "execution_count": null,
      "outputs": [
        {
          "output_type": "execute_result",
          "data": {
            "application/vnd.google.colaboratory.intrinsic+json": {
              "type": "string"
            },
            "text/plain": [
              "'ABYTABI'"
            ]
          },
          "metadata": {
            "tags": []
          },
          "execution_count": 29
        }
      ]
    },
    {
      "cell_type": "code",
      "metadata": {
        "colab": {
          "base_uri": "https://localhost:8080/",
          "height": 35
        },
        "id": "H8tq2P4H0lVP",
        "outputId": "7ae0df29-3e29-4f3c-9bae-d5fdf591f1d9"
      },
      "source": [
        "f\"{2*82}\""
      ],
      "execution_count": null,
      "outputs": [
        {
          "output_type": "execute_result",
          "data": {
            "application/vnd.google.colaboratory.intrinsic+json": {
              "type": "string"
            },
            "text/plain": [
              "'164'"
            ]
          },
          "metadata": {
            "tags": []
          },
          "execution_count": 27
        }
      ]
    },
    {
      "cell_type": "code",
      "metadata": {
        "colab": {
          "base_uri": "https://localhost:8080/"
        },
        "id": "JOXXR38n-9xB",
        "outputId": "13d8ec80-8c25-440c-c44a-1417299c14af"
      },
      "source": [
        "for i in range(10):\r\n",
        "  print(i)"
      ],
      "execution_count": null,
      "outputs": [
        {
          "output_type": "stream",
          "text": [
            "0\n",
            "1\n",
            "2\n",
            "3\n",
            "4\n",
            "5\n",
            "6\n",
            "7\n",
            "8\n",
            "9\n"
          ],
          "name": "stdout"
        }
      ]
    },
    {
      "cell_type": "code",
      "metadata": {
        "id": "5op8rhyCbboA"
      },
      "source": [
        ""
      ],
      "execution_count": null,
      "outputs": []
    },
    {
      "cell_type": "code",
      "metadata": {
        "colab": {
          "base_uri": "https://localhost:8080/"
        },
        "id": "ARLUQNoP_VNX",
        "outputId": "ee9336a8-5b93-4fdb-ac81-3d15abee9b45"
      },
      "source": [
        "#for() loo\r\n",
        "date = [1989,1993,2021]\r\n",
        "N = len(date)\r\n",
        "\r\n",
        "for i in range(N):\r\n",
        "  print(date[i])"
      ],
      "execution_count": null,
      "outputs": [
        {
          "output_type": "stream",
          "text": [
            "1989\n",
            "1993\n",
            "2021\n"
          ],
          "name": "stdout"
        }
      ]
    },
    {
      "cell_type": "code",
      "metadata": {
        "colab": {
          "base_uri": "https://localhost:8080/"
        },
        "id": "dVj1B1R4ANXD",
        "outputId": "2c272fc0-71e2-42ee-a046-b1cb72d9c9e1"
      },
      "source": [
        "squares = ['red','yesllow','green','black','blue']\r\n",
        "\r\n",
        "for i, square in enumerate(squares):\r\n",
        "  print(i, square)"
      ],
      "execution_count": null,
      "outputs": [
        {
          "output_type": "stream",
          "text": [
            "0 red\n",
            "1 yesllow\n",
            "2 green\n",
            "3 black\n",
            "4 blue\n"
          ],
          "name": "stdout"
        }
      ]
    },
    {
      "cell_type": "code",
      "metadata": {
        "id": "xz3YWn2mA03P"
      },
      "source": [
        "squares = ['red','yesllow','green','black','blue']\r\n"
      ],
      "execution_count": null,
      "outputs": []
    },
    {
      "cell_type": "code",
      "metadata": {
        "colab": {
          "base_uri": "https://localhost:8080/"
        },
        "id": "wPu9KRjsDF0O",
        "outputId": "fa929103-d319-455e-cb4b-4488b5bd7858"
      },
      "source": [
        "i= -5\r\n",
        "while (i < 6):\r\n",
        "  print(i)\r\n",
        "  i=i+1\r\n"
      ],
      "execution_count": null,
      "outputs": [
        {
          "output_type": "stream",
          "text": [
            "-5\n",
            "-4\n",
            "-3\n",
            "-2\n",
            "-1\n",
            "0\n",
            "1\n",
            "2\n",
            "3\n",
            "4\n",
            "5\n"
          ],
          "name": "stdout"
        }
      ]
    },
    {
      "cell_type": "code",
      "metadata": {
        "colab": {
          "base_uri": "https://localhost:8080/"
        },
        "id": "4LJ7oY6gFXl9",
        "outputId": "9ebc7067-3fdf-4163-eef4-e10e1d954058"
      },
      "source": [
        "for i in range (-5, 6):\r\n",
        "  print(i)"
      ],
      "execution_count": null,
      "outputs": [
        {
          "output_type": "stream",
          "text": [
            "-5\n",
            "-4\n",
            "-3\n",
            "-2\n",
            "-1\n",
            "0\n",
            "1\n",
            "2\n",
            "3\n",
            "4\n",
            "5\n"
          ],
          "name": "stdout"
        }
      ]
    },
    {
      "cell_type": "code",
      "metadata": {
        "colab": {
          "base_uri": "https://localhost:8080/"
        },
        "id": "j2YFTtEUHkpH",
        "outputId": "0c138af1-e2b9-464b-8985-1a0e350ffc27"
      },
      "source": [
        "[j + k for j in 'xyz' for k in 'abc']"
      ],
      "execution_count": null,
      "outputs": [
        {
          "output_type": "execute_result",
          "data": {
            "text/plain": [
              "['xa', 'xb', 'xc', 'ya', 'yb', 'yc', 'za', 'zb', 'zc']"
            ]
          },
          "metadata": {
            "tags": []
          },
          "execution_count": 53
        }
      ]
    },
    {
      "cell_type": "code",
      "metadata": {
        "colab": {
          "base_uri": "https://localhost:8080/"
        },
        "id": "ebbZyTQ2IGJG",
        "outputId": "18cd5655-7a80-4ace-9916-05c3886348db"
      },
      "source": [
        "[j + k for j in 'abc' for k in 'ABC']"
      ],
      "execution_count": null,
      "outputs": [
        {
          "output_type": "execute_result",
          "data": {
            "text/plain": [
              "['aA', 'aB', 'aC', 'bA', 'bB', 'bC', 'cA', 'cB', 'cC']"
            ]
          },
          "metadata": {
            "tags": []
          },
          "execution_count": 48
        }
      ]
    },
    {
      "cell_type": "code",
      "metadata": {
        "colab": {
          "base_uri": "https://localhost:8080/"
        },
        "id": "72XJOlxvIbTP",
        "outputId": "640bfbfd-30c8-412f-99dd-434e98889bd8"
      },
      "source": [
        "name = \"Eric\"\r\n",
        "age = 60\r\n",
        "if age > 75:\r\n",
        "  print(\"Hello , %s you are not eligible for License\" %(name))\r\n",
        "else:\r\n",
        "  print((\"Hello , %s you are eligible for License\" %(name)))"
      ],
      "execution_count": null,
      "outputs": [
        {
          "output_type": "stream",
          "text": [
            "Hello , Eric you are eligible for License\n"
          ],
          "name": "stdout"
        }
      ]
    },
    {
      "cell_type": "code",
      "metadata": {
        "colab": {
          "base_uri": "https://localhost:8080/"
        },
        "id": "7J2XuCaFbdSz",
        "outputId": "0d474fd1-f2ff-400f-d8f1-4d7e4142301b"
      },
      "source": [
        "for x in \"bananan\":\r\n",
        "  print(x)"
      ],
      "execution_count": 1,
      "outputs": [
        {
          "output_type": "stream",
          "text": [
            "b\n",
            "a\n",
            "n\n",
            "a\n",
            "n\n",
            "a\n",
            "n\n"
          ],
          "name": "stdout"
        }
      ]
    },
    {
      "cell_type": "code",
      "metadata": {
        "colab": {
          "base_uri": "https://localhost:8080/"
        },
        "id": "ZDELMFwHbnin",
        "outputId": "032272c6-c4f7-4b51-f59c-e3518c984ad8"
      },
      "source": [
        "fruits = [\"apple\",\"banana\",\"cherry\"]\r\n",
        "for x in fruits:\r\n",
        "  print(x)"
      ],
      "execution_count": 2,
      "outputs": [
        {
          "output_type": "stream",
          "text": [
            "apple\n",
            "banana\n",
            "cherry\n"
          ],
          "name": "stdout"
        }
      ]
    },
    {
      "cell_type": "code",
      "metadata": {
        "colab": {
          "base_uri": "https://localhost:8080/"
        },
        "id": "26GSE11YcR5p",
        "outputId": "80e3fce4-44ed-4fd0-8efa-00114a141ae4"
      },
      "source": [
        "fruits = [\"apple\",\"banana\",\"cherry\"]\r\n",
        "for x in fruits:\r\n",
        "  if x==\"banana\":\r\n",
        "    break\r\n",
        "  print(x)"
      ],
      "execution_count": 3,
      "outputs": [
        {
          "output_type": "stream",
          "text": [
            "apple\n"
          ],
          "name": "stdout"
        }
      ]
    },
    {
      "cell_type": "code",
      "metadata": {
        "colab": {
          "base_uri": "https://localhost:8080/"
        },
        "id": "jMv_1K1Ucbjk",
        "outputId": "846150ff-9c2f-4db6-b787-567eb1c4e108"
      },
      "source": [
        "fruits = [\"apple\",\"banana\",\"cherry\"]\r\n",
        "for x in fruits:\r\n",
        "  if x==\"banana\":\r\n",
        "    continue\r\n",
        "  print(x)"
      ],
      "execution_count": 4,
      "outputs": [
        {
          "output_type": "stream",
          "text": [
            "apple\n",
            "cherry\n"
          ],
          "name": "stdout"
        }
      ]
    },
    {
      "cell_type": "code",
      "metadata": {
        "colab": {
          "base_uri": "https://localhost:8080/"
        },
        "id": "p75e_fOnc1Yl",
        "outputId": "f709f548-21c8-4643-d0c2-2d49dfe7717c"
      },
      "source": [
        "for i in range(2,12,3):\r\n",
        "  print(i)"
      ],
      "execution_count": 7,
      "outputs": [
        {
          "output_type": "stream",
          "text": [
            "2\n",
            "5\n",
            "8\n",
            "11\n"
          ],
          "name": "stdout"
        }
      ]
    },
    {
      "cell_type": "code",
      "metadata": {
        "colab": {
          "base_uri": "https://localhost:8080/"
        },
        "id": "2q0E8R0pdMCL",
        "outputId": "b4b58abe-564b-4d7e-b6ae-0fd42fa66fa7"
      },
      "source": [
        "for i in range(6):\r\n",
        "  print(i)\r\n",
        "else:\r\n",
        "  print(\"loop Finished!\")"
      ],
      "execution_count": 8,
      "outputs": [
        {
          "output_type": "stream",
          "text": [
            "0\n",
            "1\n",
            "2\n",
            "3\n",
            "4\n",
            "5\n",
            "loop Finished!\n"
          ],
          "name": "stdout"
        }
      ]
    },
    {
      "cell_type": "code",
      "metadata": {
        "colab": {
          "base_uri": "https://localhost:8080/"
        },
        "id": "KrqwxzaWdXn9",
        "outputId": "96505e82-642e-4961-ed89-1e367a0a025b"
      },
      "source": [
        "for i in range(6):\r\n",
        "  if i == 4: break\r\n",
        "  print(i)\r\n",
        "else:\r\n",
        "  print(\"Loop finished!\")"
      ],
      "execution_count": 11,
      "outputs": [
        {
          "output_type": "stream",
          "text": [
            "0\n",
            "1\n",
            "2\n",
            "3\n"
          ],
          "name": "stdout"
        }
      ]
    },
    {
      "cell_type": "code",
      "metadata": {
        "colab": {
          "base_uri": "https://localhost:8080/"
        },
        "id": "S9qK5duSd0KA",
        "outputId": "34d1f1e9-ee5b-416e-9d99-f0ba581a9dbe"
      },
      "source": [
        "for i in range(6):\r\n",
        "  if i == 4: pass\r\n",
        "  print(i)\r\n",
        "else:\r\n",
        "  print(\"Loop finished!\")"
      ],
      "execution_count": 12,
      "outputs": [
        {
          "output_type": "stream",
          "text": [
            "0\n",
            "1\n",
            "2\n",
            "3\n",
            "4\n",
            "5\n",
            "Loop finished!\n"
          ],
          "name": "stdout"
        }
      ]
    },
    {
      "cell_type": "code",
      "metadata": {
        "colab": {
          "base_uri": "https://localhost:8080/"
        },
        "id": "_19iu6hvd5-V",
        "outputId": "5554b387-f059-4860-c6a8-37c9fec13f52"
      },
      "source": [
        "i=1\r\n",
        "while i<6:\r\n",
        "  print(i)\r\n",
        "  i+=1"
      ],
      "execution_count": 13,
      "outputs": [
        {
          "output_type": "stream",
          "text": [
            "1\n",
            "2\n",
            "3\n",
            "4\n",
            "5\n"
          ],
          "name": "stdout"
        }
      ]
    },
    {
      "cell_type": "code",
      "metadata": {
        "colab": {
          "base_uri": "https://localhost:8080/"
        },
        "id": "cNGN7NZMevWq",
        "outputId": "225a39f4-5afc-41fe-a028-a375343721ef"
      },
      "source": [
        "a = input(\"input a number\")"
      ],
      "execution_count": 17,
      "outputs": [
        {
          "output_type": "stream",
          "text": [
            "input a number2\n"
          ],
          "name": "stdout"
        }
      ]
    },
    {
      "cell_type": "code",
      "metadata": {
        "id": "k6RHtxnXeiUr"
      },
      "source": [
        ""
      ],
      "execution_count": null,
      "outputs": []
    },
    {
      "cell_type": "code",
      "metadata": {
        "id": "GOskiWYMeFKN"
      },
      "source": [
        "for x in [0,1,2]:\r\n",
        "  pass"
      ],
      "execution_count": 14,
      "outputs": []
    },
    {
      "cell_type": "code",
      "metadata": {
        "colab": {
          "base_uri": "https://localhost:8080/"
        },
        "id": "StCzqf80e8cx",
        "outputId": "b8a73076-5a4d-473e-fee1-b42536593e70"
      },
      "source": [
        "a = input(\"input a number\")\r\n",
        "int(a)"
      ],
      "execution_count": 18,
      "outputs": [
        {
          "output_type": "stream",
          "text": [
            "input a number5\n"
          ],
          "name": "stdout"
        },
        {
          "output_type": "execute_result",
          "data": {
            "text/plain": [
              "5"
            ]
          },
          "metadata": {
            "tags": []
          },
          "execution_count": 18
        }
      ]
    },
    {
      "cell_type": "code",
      "metadata": {
        "colab": {
          "base_uri": "https://localhost:8080/"
        },
        "id": "kRXwPMv9fah1",
        "outputId": "51a7dd02-630b-484e-885d-6f5e8324b1ce"
      },
      "source": [
        "a = input(\"input a number\")\r\n",
        "num = int(a)\r\n",
        "for i in range(1,11):\r\n",
        "  print(num, 'x', i, '=', num*i)"
      ],
      "execution_count": 26,
      "outputs": [
        {
          "output_type": "stream",
          "text": [
            "input a number4\n",
            "4 x 1 = 4\n",
            "4 x 2 = 8\n",
            "4 x 3 = 12\n",
            "4 x 4 = 16\n",
            "4 x 5 = 20\n",
            "4 x 6 = 24\n",
            "4 x 7 = 28\n",
            "4 x 8 = 32\n",
            "4 x 9 = 36\n",
            "4 x 10 = 40\n"
          ],
          "name": "stdout"
        }
      ]
    },
    {
      "cell_type": "code",
      "metadata": {
        "colab": {
          "base_uri": "https://localhost:8080/"
        },
        "id": "m9KtdgGUiVRR",
        "outputId": "4c2d2c08-d6e6-4431-b974-2d7f4f770b97"
      },
      "source": [
        "#ternary statement\r\n",
        "a,b=98,88\r\n",
        "print(a,b)\r\n",
        "min = a if a<b else b\r\n",
        "print(min)\r\n",
        "#print(\"both a and b are equal\" if a==b ,\"a is greater than b \" else if a>b, \"b is greater than a\" else)"
      ],
      "execution_count": 32,
      "outputs": [
        {
          "output_type": "stream",
          "text": [
            "98 88\n",
            "88\n"
          ],
          "name": "stdout"
        }
      ]
    },
    {
      "cell_type": "code",
      "metadata": {
        "colab": {
          "base_uri": "https://localhost:8080/"
        },
        "id": "ftVyr5UAm898",
        "outputId": "bde56171-e0f8-4ad0-ead7-97190b8d35aa"
      },
      "source": [
        "#list tuple set  \r\n",
        "#list - ordered and item can be placed at the end. changable(add or remove). Allow duplicates\r\n",
        "mylist=[\"apple\",\"banana\",\"cherry\"]\r\n",
        "print(mylist)\r\n",
        "#tuple - Ordered and unchangable - no delete, no sord no addition and allow duplicate\r\n",
        "mytuple=(\"apple\",\"banana\",\"cherry\")\r\n",
        "print(mytuple)\r\n",
        "print(type(mytuple))\r\n",
        "#set - unordered and unchangeable and cannot be duplicated\r\n",
        "myset = {\"apple\",\"banana\",\"cherry\"}\r\n",
        "print(myset)\r\n",
        "#dictonary - key is not duplicate, unordered, changable\r\n",
        "mydict={\r\n",
        "    a : \"apple\"\r\n",
        "    b : \"bananan\"\r\n",
        "    c : \"cherry\"\r\n",
        "}"
      ],
      "execution_count": 36,
      "outputs": [
        {
          "output_type": "stream",
          "text": [
            "['apple', 'banana', 'cherry']\n",
            "('apple', 'banana', 'cherry')\n",
            "<class 'tuple'>\n",
            "{'apple', 'cherry', 'banana'}\n"
          ],
          "name": "stdout"
        }
      ]
    }
  ]
}